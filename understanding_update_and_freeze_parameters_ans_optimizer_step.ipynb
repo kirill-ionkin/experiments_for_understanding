{
 "cells": [
  {
   "cell_type": "code",
   "execution_count": 1,
   "id": "793113e0",
   "metadata": {},
   "outputs": [],
   "source": [
    "import torch\n",
    "import torch.nn as nn"
   ]
  },
  {
   "cell_type": "code",
   "execution_count": 2,
   "id": "7ce59aae",
   "metadata": {},
   "outputs": [
    {
     "data": {
      "text/plain": [
       "<torch._C.Generator at 0x17b9b181bd0>"
      ]
     },
     "execution_count": 2,
     "metadata": {},
     "output_type": "execute_result"
    }
   ],
   "source": [
    "# determenistic mode\n",
    "torch.manual_seed(0)"
   ]
  },
  {
   "cell_type": "code",
   "execution_count": null,
   "id": "723d23bc",
   "metadata": {},
   "outputs": [],
   "source": []
  },
  {
   "cell_type": "code",
   "execution_count": null,
   "id": "d70441d3",
   "metadata": {},
   "outputs": [],
   "source": []
  },
  {
   "cell_type": "markdown",
   "id": "24eb31b1",
   "metadata": {},
   "source": [
    "# 1ый эксперемент"
   ]
  },
  {
   "cell_type": "code",
   "execution_count": null,
   "id": "812f3a6c",
   "metadata": {},
   "outputs": [],
   "source": [
    "# просто посмотреть на то, расчитываются ли градиенты для слоёв"
   ]
  },
  {
   "cell_type": "code",
   "execution_count": 3,
   "id": "75d05da8",
   "metadata": {},
   "outputs": [],
   "source": [
    "# data\n",
    "random_input = torch.randn(3,3)\n",
    "random_output = torch.randn(3,3)\n",
    "\n",
    "# loss_fn \n",
    "loss_fn = nn.MSELoss()"
   ]
  },
  {
   "cell_type": "code",
   "execution_count": 4,
   "id": "0dff6737",
   "metadata": {},
   "outputs": [],
   "source": [
    "# model\n",
    "l1 = nn.Linear(3, 10, bias=False)\n",
    "l2 = nn.Linear(10, 3, bias=False)"
   ]
  },
  {
   "cell_type": "code",
   "execution_count": 7,
   "id": "15a3742e",
   "metadata": {},
   "outputs": [
    {
     "data": {
      "text/plain": [
       "{'l1': [Parameter containing:\n",
       "  tensor([[-0.3370,  0.4963,  0.2576],\n",
       "          [ 0.2798,  0.0304, -0.2960],\n",
       "          [ 0.0977, -0.5391, -0.4172],\n",
       "          [-0.2976,  0.3643,  0.3385],\n",
       "          [-0.2561, -0.0208,  0.3693],\n",
       "          [ 0.5740,  0.2291,  0.0780],\n",
       "          [ 0.3871, -0.3399,  0.1076],\n",
       "          [-0.4476, -0.4002, -0.2982],\n",
       "          [ 0.2612,  0.2322, -0.3420],\n",
       "          [ 0.1744,  0.3169, -0.0729]], requires_grad=True)],\n",
       " 'l2': [Parameter containing:\n",
       "  tensor([[ 0.0121,  0.0733,  0.1962,  0.3036, -0.2437, -0.1159,  0.1243,  0.2620,\n",
       "            0.2752,  0.2790],\n",
       "          [ 0.0629, -0.2750,  0.0291, -0.1978, -0.2947,  0.2810,  0.2404, -0.3154,\n",
       "            0.0592, -0.0533],\n",
       "          [-0.0520, -0.1448,  0.1216, -0.1873,  0.1159,  0.1599,  0.2264,  0.1182,\n",
       "           -0.3130, -0.2051]], requires_grad=True)]}"
      ]
     },
     "execution_count": 7,
     "metadata": {},
     "output_type": "execute_result"
    }
   ],
   "source": [
    "params_before = {\"l1\":list(l1.parameters()), \"l2\": list(l2.parameters())}\n",
    "params_before"
   ]
  },
  {
   "cell_type": "code",
   "execution_count": 8,
   "id": "435ca0a5",
   "metadata": {},
   "outputs": [],
   "source": [
    "# перед backward pass попробуем проверить, есть ли какие-то градиенты "
   ]
  },
  {
   "cell_type": "code",
   "execution_count": 9,
   "id": "76d6fc99",
   "metadata": {},
   "outputs": [],
   "source": [
    "l1.weight.grad"
   ]
  },
  {
   "cell_type": "code",
   "execution_count": 10,
   "id": "d3dd25e2",
   "metadata": {},
   "outputs": [],
   "source": [
    "l2.weight.grad"
   ]
  },
  {
   "cell_type": "code",
   "execution_count": null,
   "id": "873afaeb",
   "metadata": {},
   "outputs": [],
   "source": [
    "# как можно заметить, слои не имеют расчитанных градиентов - это ожидаемо и логично т.к. мы ещё не делали backward pass"
   ]
  },
  {
   "cell_type": "code",
   "execution_count": null,
   "id": "f724ca46",
   "metadata": {},
   "outputs": [],
   "source": []
  },
  {
   "cell_type": "code",
   "execution_count": null,
   "id": "76469a7e",
   "metadata": {},
   "outputs": [],
   "source": []
  },
  {
   "cell_type": "code",
   "execution_count": null,
   "id": "91866e49",
   "metadata": {},
   "outputs": [],
   "source": [
    "random_input -> l1 -> y -> l2 -> z"
   ]
  },
  {
   "cell_type": "code",
   "execution_count": 11,
   "id": "ed21cc0a",
   "metadata": {},
   "outputs": [],
   "source": [
    "y = l1(random_input)\n",
    "z = l2(y)"
   ]
  },
  {
   "cell_type": "code",
   "execution_count": 12,
   "id": "91031aa0",
   "metadata": {},
   "outputs": [
    {
     "data": {
      "text/plain": [
       "tensor([[-1.2263,  1.0672,  1.2176, -1.3031, -1.1930,  0.6473,  0.4619,  0.0775,\n",
       "          1.0796,  0.3346],\n",
       "        [-1.0901,  0.5401,  1.2236, -1.0377, -0.6394, -0.0313,  0.4383,  0.5967,\n",
       "          0.3750, -0.1427],\n",
       "        [ 0.0947,  0.3512, -0.1123, -0.0583, -0.3863,  0.3674, -0.2061, -0.3014,\n",
       "          0.5459,  0.3884]], grad_fn=<MmBackward0>)"
      ]
     },
     "execution_count": 12,
     "metadata": {},
     "output_type": "execute_result"
    }
   ],
   "source": [
    "y"
   ]
  },
  {
   "cell_type": "code",
   "execution_count": 13,
   "id": "53c362c6",
   "metadata": {},
   "outputs": [
    {
     "data": {
      "text/plain": [
       "tensor([[ 0.5904,  0.5887, -0.0261],\n",
       "        [ 0.3850,  0.1503,  0.3242],\n",
       "        [ 0.1927,  0.1919, -0.3774]], grad_fn=<MmBackward0>)"
      ]
     },
     "execution_count": 13,
     "metadata": {},
     "output_type": "execute_result"
    }
   ],
   "source": [
    "z"
   ]
  },
  {
   "cell_type": "code",
   "execution_count": 14,
   "id": "119b93c1",
   "metadata": {},
   "outputs": [],
   "source": [
    "loss = loss_fn(z, random_output)"
   ]
  },
  {
   "cell_type": "code",
   "execution_count": 15,
   "id": "b790b1ca",
   "metadata": {},
   "outputs": [
    {
     "data": {
      "text/plain": [
       "tensor(0.8857, grad_fn=<MseLossBackward0>)"
      ]
     },
     "execution_count": 15,
     "metadata": {},
     "output_type": "execute_result"
    }
   ],
   "source": [
    "loss"
   ]
  },
  {
   "cell_type": "code",
   "execution_count": 16,
   "id": "cef6ef12",
   "metadata": {},
   "outputs": [],
   "source": [
    "loss.backward()"
   ]
  },
  {
   "cell_type": "code",
   "execution_count": 17,
   "id": "0519a530",
   "metadata": {},
   "outputs": [
    {
     "data": {
      "text/plain": [
       "tensor([[ 0.0264,  0.0383, -0.0247],\n",
       "        [-0.0659, -0.0393,  0.0764],\n",
       "        [ 0.1136, -0.1166, -0.2098],\n",
       "        [ 0.0758, -0.0779, -0.1477],\n",
       "        [-0.2226, -0.0544,  0.3072],\n",
       "        [ 0.0471,  0.0490, -0.0446],\n",
       "        [ 0.1562, -0.0779, -0.2535],\n",
       "        [ 0.0247, -0.2391, -0.1292],\n",
       "        [ 0.1477,  0.0655, -0.1987],\n",
       "        [ 0.1139, -0.0187, -0.1801]])"
      ]
     },
     "execution_count": 17,
     "metadata": {},
     "output_type": "execute_result"
    }
   ],
   "source": [
    "l1.weight.grad"
   ]
  },
  {
   "cell_type": "code",
   "execution_count": 18,
   "id": "e443862a",
   "metadata": {},
   "outputs": [
    {
     "data": {
      "text/plain": [
       "tensor([[-0.5701,  0.3902,  0.6048, -0.5750, -0.4459,  0.1400,  0.2197,  0.1771,\n",
       "          0.3504,  0.0406],\n",
       "        [-0.0769,  0.2262,  0.0434, -0.1339, -0.2443,  0.2390, -0.0056, -0.1564,\n",
       "          0.2972,  0.1837],\n",
       "        [-0.2971,  0.0596,  0.3418, -0.2518, -0.0787, -0.1009,  0.1489,  0.2317,\n",
       "         -0.0247, -0.1245]])"
      ]
     },
     "execution_count": 18,
     "metadata": {},
     "output_type": "execute_result"
    }
   ],
   "source": [
    "l2.weight.grad"
   ]
  },
  {
   "cell_type": "code",
   "execution_count": null,
   "id": "a6ff0a73",
   "metadata": {},
   "outputs": [],
   "source": [
    "# после запуска backward pass - оба слоя имеют расчитанные градиенты!"
   ]
  },
  {
   "cell_type": "code",
   "execution_count": null,
   "id": "b512805d",
   "metadata": {},
   "outputs": [],
   "source": []
  },
  {
   "cell_type": "code",
   "execution_count": null,
   "id": "9bc1f951",
   "metadata": {},
   "outputs": [],
   "source": []
  },
  {
   "cell_type": "markdown",
   "id": "8f45d372",
   "metadata": {},
   "source": [
    "# 2ой эксперемент"
   ]
  },
  {
   "cell_type": "code",
   "execution_count": 38,
   "id": "d7359396",
   "metadata": {},
   "outputs": [],
   "source": [
    "# model\n",
    "l1 = nn.Linear(3, 10, bias=False)\n",
    "l2 = nn.Linear(10, 3, bias=False)"
   ]
  },
  {
   "cell_type": "code",
   "execution_count": 40,
   "id": "6ca7c4a9",
   "metadata": {},
   "outputs": [],
   "source": [
    "# заморозим веса 2ого слоя!\n",
    "for param in l2.parameters():\n",
    "    param.requires_grad = False"
   ]
  },
  {
   "cell_type": "code",
   "execution_count": 41,
   "id": "5fac0974",
   "metadata": {},
   "outputs": [
    {
     "data": {
      "text/plain": [
       "{'l1': [Parameter containing:\n",
       "  tensor([[-0.2297, -0.5397, -0.4349],\n",
       "          [ 0.2502, -0.3419,  0.0828],\n",
       "          [ 0.1843,  0.0409, -0.3743],\n",
       "          [ 0.5521, -0.3357,  0.4749],\n",
       "          [-0.4593, -0.1389,  0.3141],\n",
       "          [-0.2359,  0.4850, -0.3973],\n",
       "          [-0.4848, -0.2603,  0.0933],\n",
       "          [ 0.5316, -0.2756,  0.2065],\n",
       "          [-0.1447, -0.1252,  0.4245],\n",
       "          [-0.4474,  0.0613,  0.5429]], requires_grad=True)],\n",
       " 'l2': [Parameter containing:\n",
       "  tensor([[-0.0435,  0.2455, -0.0974,  0.2546, -0.3059, -0.0456, -0.0555,  0.1025,\n",
       "            0.1241,  0.2428],\n",
       "          [-0.0471, -0.0125,  0.2166, -0.0856,  0.2772, -0.2105, -0.0342, -0.0170,\n",
       "            0.1411,  0.2162],\n",
       "          [-0.0501, -0.2620,  0.1567,  0.0946,  0.1270, -0.1951,  0.2035,  0.2995,\n",
       "            0.0274, -0.2954]])]}"
      ]
     },
     "execution_count": 41,
     "metadata": {},
     "output_type": "execute_result"
    }
   ],
   "source": [
    "params_before = {\"l1\":list(l1.parameters()), \"l2\": list(l2.parameters())}\n",
    "params_before"
   ]
  },
  {
   "cell_type": "code",
   "execution_count": 42,
   "id": "66cdd9eb",
   "metadata": {},
   "outputs": [],
   "source": [
    "# перед backward pass попробуем проверить, есть ли какие-то градиенты "
   ]
  },
  {
   "cell_type": "code",
   "execution_count": 43,
   "id": "bc201434",
   "metadata": {},
   "outputs": [],
   "source": [
    "l1.weight.grad"
   ]
  },
  {
   "cell_type": "code",
   "execution_count": 44,
   "id": "1826a229",
   "metadata": {},
   "outputs": [],
   "source": [
    "l2.weight.grad"
   ]
  },
  {
   "cell_type": "code",
   "execution_count": null,
   "id": "89bb30fb",
   "metadata": {},
   "outputs": [],
   "source": [
    "# как можно заметить, слои не имеют расчитанных градиентов - это ожидаемо и логично т.к. мы ещё не делали backward pass"
   ]
  },
  {
   "cell_type": "code",
   "execution_count": null,
   "id": "a263203d",
   "metadata": {},
   "outputs": [],
   "source": []
  },
  {
   "cell_type": "code",
   "execution_count": null,
   "id": "7a29c0f1",
   "metadata": {},
   "outputs": [],
   "source": []
  },
  {
   "cell_type": "code",
   "execution_count": null,
   "id": "758bbd71",
   "metadata": {},
   "outputs": [],
   "source": [
    "random_input -> l1 -> y -> l2 -> z"
   ]
  },
  {
   "cell_type": "code",
   "execution_count": 45,
   "id": "d1f19ea8",
   "metadata": {},
   "outputs": [],
   "source": [
    "y = l1(random_input)\n",
    "z = l2(y)"
   ]
  },
  {
   "cell_type": "code",
   "execution_count": 46,
   "id": "e0a88f69",
   "metadata": {},
   "outputs": [
    {
     "data": {
      "text/plain": [
       "tensor([[ 0.7521,  0.3054,  1.0876, -0.0853, -1.3513,  0.3598, -0.8741,  0.4502,\n",
       "         -1.1113, -1.8905],\n",
       "        [ 1.0630,  0.3971,  0.5839,  0.0138, -0.5497, -0.1044, -0.1238,  0.3123,\n",
       "         -0.5402, -1.0802],\n",
       "        [-0.2320, -0.2451,  0.3778, -0.4002, -0.5275,  0.5971, -0.4809, -0.1651,\n",
       "         -0.4687, -0.5196]], grad_fn=<MmBackward0>)"
      ]
     },
     "execution_count": 46,
     "metadata": {},
     "output_type": "execute_result"
    }
   ],
   "source": [
    "y"
   ]
  },
  {
   "cell_type": "code",
   "execution_count": 47,
   "id": "c44d235e",
   "metadata": {},
   "outputs": [
    {
     "data": {
      "text/plain": [
       "tensor([[-0.1905, -0.7901,  0.2876],\n",
       "        [-0.1195, -0.3710,  0.2586],\n",
       "        [-0.2291, -0.3011, -0.0930]], grad_fn=<MmBackward0>)"
      ]
     },
     "execution_count": 47,
     "metadata": {},
     "output_type": "execute_result"
    }
   ],
   "source": [
    "z"
   ]
  },
  {
   "cell_type": "code",
   "execution_count": 48,
   "id": "c4c69394",
   "metadata": {},
   "outputs": [],
   "source": [
    "loss = loss_fn(z, random_output)"
   ]
  },
  {
   "cell_type": "code",
   "execution_count": 49,
   "id": "7952eee0",
   "metadata": {},
   "outputs": [
    {
     "data": {
      "text/plain": [
       "tensor(0.5536, grad_fn=<MseLossBackward0>)"
      ]
     },
     "execution_count": 49,
     "metadata": {},
     "output_type": "execute_result"
    }
   ],
   "source": [
    "loss"
   ]
  },
  {
   "cell_type": "code",
   "execution_count": 50,
   "id": "9a3bf6f4",
   "metadata": {},
   "outputs": [],
   "source": [
    "loss.backward()"
   ]
  },
  {
   "cell_type": "code",
   "execution_count": 51,
   "id": "eaac6aac",
   "metadata": {},
   "outputs": [
    {
     "data": {
      "text/plain": [
       "tensor([[-0.0032,  0.0123,  0.0076],\n",
       "        [-0.0067,  0.0402,  0.0280],\n",
       "        [-0.0371,  0.0504,  0.0759],\n",
       "        [ 0.0691, -0.1403, -0.1506],\n",
       "        [-0.0838,  0.1415,  0.1759],\n",
       "        [ 0.0103,  0.0048, -0.0185],\n",
       "        [ 0.0334, -0.0843, -0.0814],\n",
       "        [ 0.0663, -0.1575, -0.1537],\n",
       "        [-0.0111,  0.0155,  0.0268],\n",
       "        [-0.0647,  0.1500,  0.1581]])"
      ]
     },
     "execution_count": 51,
     "metadata": {},
     "output_type": "execute_result"
    }
   ],
   "source": [
    "l1.weight.grad"
   ]
  },
  {
   "cell_type": "code",
   "execution_count": 52,
   "id": "39961ff1",
   "metadata": {},
   "outputs": [],
   "source": [
    "l2.weight.grad"
   ]
  },
  {
   "cell_type": "code",
   "execution_count": null,
   "id": "cc44c0f5",
   "metadata": {},
   "outputs": [],
   "source": [
    "# как можно заметить, при заморозке 2ого слоя, градиенты ко 2ому слою не поступают, НО для 1ого они также поступают\n",
    "# -> заморозка весов действительно помогает, если нужно заморозить какие-то слои, чтобы они не обновлялись без помехи\n",
    "# для обновления других весов"
   ]
  },
  {
   "cell_type": "code",
   "execution_count": null,
   "id": "3c33f3c9",
   "metadata": {},
   "outputs": [],
   "source": []
  },
  {
   "cell_type": "code",
   "execution_count": null,
   "id": "c19a7edf",
   "metadata": {},
   "outputs": [],
   "source": []
  },
  {
   "cell_type": "markdown",
   "id": "bd67cab9",
   "metadata": {},
   "source": [
    "# Посмотрим на то, как веса обновляются + добавим optimizer"
   ]
  },
  {
   "cell_type": "code",
   "execution_count": null,
   "id": "d505cd99",
   "metadata": {},
   "outputs": [],
   "source": [
    "# Список экспериментов:\n",
    "# 1) 2 слоя, никто не заморожён, оба подаём оптимизатору \n",
    "\n",
    "# 2) 2 слоя, никто не заморожен, но подаём оптимизатору только 2ой слой l2\n",
    "# 3) 2 слоя, никто не заморожен, но подаём оптимизатору только 1ый слой l1\n",
    "\n",
    "# 4) 2 слоя, заморожён 2ой слой l2, подаём оба слоя оптимизатору \n",
    "# 5) 2 слоя, заморожён 1ый слой l1, подаём оба слоя оптимизаотру\n",
    "# 6) 2 слоя, оба заморожёны - l1 и l2, подаём оба слоя оптимизатору\n",
    "\n",
    "# 7) 2 слоя, заморожён 2ой слой l2, подаём только слой l2 оптимизатору\n"
   ]
  },
  {
   "cell_type": "markdown",
   "id": "4ba5f9cb",
   "metadata": {},
   "source": [
    "### 1) 2 слоя, никто не заморожён, оба подаём оптимизатору \n"
   ]
  },
  {
   "cell_type": "code",
   "execution_count": 213,
   "id": "7840438d",
   "metadata": {},
   "outputs": [],
   "source": [
    "# model\n",
    "l1 = nn.Linear(3, 5, bias=False)\n",
    "l2 = nn.Linear(5, 3, bias=False)"
   ]
  },
  {
   "cell_type": "code",
   "execution_count": 214,
   "id": "81113a99",
   "metadata": {},
   "outputs": [
    {
     "data": {
      "text/plain": [
       "{'l1': tensor([[ 0.4741,  0.2236,  0.4864],\n",
       "         [-0.1979, -0.3185,  0.4965],\n",
       "         [ 0.2407,  0.5542, -0.2412],\n",
       "         [-0.3707, -0.0677, -0.5436],\n",
       "         [ 0.2263,  0.4258,  0.1386]]),\n",
       " 'l2': tensor([[-0.0442,  0.2217, -0.2839,  0.4375, -0.4447],\n",
       "         [-0.4284, -0.1057,  0.3653,  0.0448,  0.1718],\n",
       "         [-0.3278,  0.1631, -0.0500,  0.1793,  0.3158]])}"
      ]
     },
     "execution_count": 214,
     "metadata": {},
     "output_type": "execute_result"
    }
   ],
   "source": [
    "params_before = {\"l1\": list(l1.parameters())[0].detach().clone(), \"l2\": list(l2.parameters())[0].detach().clone()}\n",
    "params_before"
   ]
  },
  {
   "cell_type": "code",
   "execution_count": 215,
   "id": "6ea20a05",
   "metadata": {},
   "outputs": [
    {
     "data": {
      "text/plain": [
       "SGD (\n",
       "Parameter Group 0\n",
       "    dampening: 0\n",
       "    differentiable: False\n",
       "    foreach: None\n",
       "    lr: 10\n",
       "    maximize: False\n",
       "    momentum: 0\n",
       "    nesterov: False\n",
       "    weight_decay: 0\n",
       "\n",
       "Parameter Group 1\n",
       "    dampening: 0\n",
       "    differentiable: False\n",
       "    foreach: None\n",
       "    lr: 10\n",
       "    maximize: False\n",
       "    momentum: 0\n",
       "    nesterov: False\n",
       "    weight_decay: 0\n",
       ")"
      ]
     },
     "execution_count": 215,
     "metadata": {},
     "output_type": "execute_result"
    }
   ],
   "source": [
    "optimizer = torch.optim.SGD([{\"params\": l1.parameters(), \"lr\": 10}, {\"params\": l2.parameters(), \"lr\": 10}])\n",
    "optimizer"
   ]
  },
  {
   "cell_type": "code",
   "execution_count": null,
   "id": "d429c543",
   "metadata": {},
   "outputs": [],
   "source": []
  },
  {
   "cell_type": "code",
   "execution_count": 190,
   "id": "e09040d0",
   "metadata": {},
   "outputs": [],
   "source": [
    "# перед backward pass попробуем проверить, есть ли какие-то градиенты "
   ]
  },
  {
   "cell_type": "code",
   "execution_count": 216,
   "id": "75e6a6a6",
   "metadata": {},
   "outputs": [],
   "source": [
    "l1.weight.grad"
   ]
  },
  {
   "cell_type": "code",
   "execution_count": 217,
   "id": "5cb749a1",
   "metadata": {},
   "outputs": [],
   "source": [
    "l2.weight.grad"
   ]
  },
  {
   "cell_type": "code",
   "execution_count": null,
   "id": "15f9e2d3",
   "metadata": {},
   "outputs": [],
   "source": []
  },
  {
   "cell_type": "code",
   "execution_count": null,
   "id": "6fac79b8",
   "metadata": {},
   "outputs": [],
   "source": [
    "random_input -> l1 -> y -> l2 -> z"
   ]
  },
  {
   "cell_type": "code",
   "execution_count": 220,
   "id": "d60e9c83",
   "metadata": {},
   "outputs": [],
   "source": [
    "y = l1(random_input)\n",
    "z = l2(y)"
   ]
  },
  {
   "cell_type": "code",
   "execution_count": 221,
   "id": "0f0a4208",
   "metadata": {},
   "outputs": [
    {
     "data": {
      "text/plain": [
       "tensor([[-0.3948, -1.2931,  0.7336,  0.6331, -0.0782],\n",
       "        [-0.6533, -0.4614, -0.1270,  0.6230, -0.5270],\n",
       "        [ 0.0288, -0.7038,  0.7350,  0.1848,  0.3485]], grad_fn=<MmBackward0>)"
      ]
     },
     "execution_count": 221,
     "metadata": {},
     "output_type": "execute_result"
    }
   ],
   "source": [
    "y"
   ]
  },
  {
   "cell_type": "code",
   "execution_count": 222,
   "id": "470f0ca7",
   "metadata": {},
   "outputs": [
    {
     "data": {
      "text/plain": [
       "tensor([[-0.1658,  0.5887, -0.0294],\n",
       "        [ 0.4695,  0.2196,  0.0905],\n",
       "        [-0.4401,  0.3987, -0.0178]], grad_fn=<MmBackward0>)"
      ]
     },
     "execution_count": 222,
     "metadata": {},
     "output_type": "execute_result"
    }
   ],
   "source": [
    "z"
   ]
  },
  {
   "cell_type": "code",
   "execution_count": 223,
   "id": "c808ff66",
   "metadata": {},
   "outputs": [],
   "source": [
    "loss = loss_fn(z, random_output)"
   ]
  },
  {
   "cell_type": "code",
   "execution_count": 224,
   "id": "33f09d1a",
   "metadata": {},
   "outputs": [
    {
     "data": {
      "text/plain": [
       "tensor(0.7546, grad_fn=<MseLossBackward0>)"
      ]
     },
     "execution_count": 224,
     "metadata": {},
     "output_type": "execute_result"
    }
   ],
   "source": [
    "loss"
   ]
  },
  {
   "cell_type": "code",
   "execution_count": 225,
   "id": "8e492542",
   "metadata": {},
   "outputs": [],
   "source": [
    "loss.backward()"
   ]
  },
  {
   "cell_type": "code",
   "execution_count": 226,
   "id": "e84b5792",
   "metadata": {},
   "outputs": [
    {
     "data": {
      "text/plain": [
       "tensor([[-0.1849, -0.0043,  0.2783],\n",
       "        [ 0.0101, -0.1861, -0.0809],\n",
       "        [ 0.0809,  0.2568, -0.0320],\n",
       "        [ 0.1109, -0.2391, -0.2468],\n",
       "        [-0.0104,  0.1426,  0.0544]])"
      ]
     },
     "execution_count": 226,
     "metadata": {},
     "output_type": "execute_result"
    }
   ],
   "source": [
    "l1.weight.grad"
   ]
  },
  {
   "cell_type": "code",
   "execution_count": 227,
   "id": "d192cedb",
   "metadata": {},
   "outputs": [
    {
     "data": {
      "text/plain": [
       "tensor([[-0.2170, -0.1162, -0.0906,  0.1939, -0.2030],\n",
       "        [ 0.0301, -0.4012,  0.3757,  0.0844,  0.1573],\n",
       "        [-0.1526,  0.0028, -0.1311,  0.1150, -0.1626]])"
      ]
     },
     "execution_count": 227,
     "metadata": {},
     "output_type": "execute_result"
    }
   ],
   "source": [
    "l2.weight.grad"
   ]
  },
  {
   "cell_type": "code",
   "execution_count": 228,
   "id": "5f384901",
   "metadata": {},
   "outputs": [],
   "source": [
    "optimizer.step()\n",
    "optimizer.zero_grad()"
   ]
  },
  {
   "cell_type": "code",
   "execution_count": null,
   "id": "42fa4c20",
   "metadata": {},
   "outputs": [],
   "source": []
  },
  {
   "cell_type": "code",
   "execution_count": 136,
   "id": "71df3de0",
   "metadata": {},
   "outputs": [],
   "source": [
    "# посмотрим на параметры слоёв, после backward step"
   ]
  },
  {
   "cell_type": "code",
   "execution_count": 229,
   "id": "b7fc8b96",
   "metadata": {},
   "outputs": [
    {
     "data": {
      "text/plain": [
       "{'l1': tensor([[ 2.3234,  0.2664, -2.2963],\n",
       "         [-0.2992,  1.5424,  1.3058],\n",
       "         [-0.5687, -2.0137,  0.0793],\n",
       "         [-1.4798,  2.3236,  1.9243],\n",
       "         [ 0.3299, -1.0004, -0.4057]]),\n",
       " 'l2': tensor([[ 2.1254,  1.3839,  0.6225, -1.5016,  1.5856],\n",
       "         [-0.7293,  3.9064, -3.3920, -0.7993, -1.4014],\n",
       "         [ 1.1981,  0.1353,  1.2610, -0.9710,  1.9423]])}"
      ]
     },
     "execution_count": 229,
     "metadata": {},
     "output_type": "execute_result"
    }
   ],
   "source": [
    "params_after = {\"l1\": list(l1.parameters())[0].detach().clone(), \"l2\": list(l2.parameters())[0].detach().clone()}\n",
    "params_after"
   ]
  },
  {
   "cell_type": "code",
   "execution_count": 230,
   "id": "081e6176",
   "metadata": {},
   "outputs": [
    {
     "data": {
      "text/plain": [
       "{'l1': tensor([[ 0.4741,  0.2236,  0.4864],\n",
       "         [-0.1979, -0.3185,  0.4965],\n",
       "         [ 0.2407,  0.5542, -0.2412],\n",
       "         [-0.3707, -0.0677, -0.5436],\n",
       "         [ 0.2263,  0.4258,  0.1386]]),\n",
       " 'l2': tensor([[-0.0442,  0.2217, -0.2839,  0.4375, -0.4447],\n",
       "         [-0.4284, -0.1057,  0.3653,  0.0448,  0.1718],\n",
       "         [-0.3278,  0.1631, -0.0500,  0.1793,  0.3158]])}"
      ]
     },
     "execution_count": 230,
     "metadata": {},
     "output_type": "execute_result"
    }
   ],
   "source": [
    "params_before"
   ]
  },
  {
   "cell_type": "code",
   "execution_count": 231,
   "id": "d1cf117c",
   "metadata": {},
   "outputs": [
    {
     "data": {
      "text/plain": [
       "(tensor([[False, False, False],\n",
       "         [False, False, False],\n",
       "         [False, False, False],\n",
       "         [False, False, False],\n",
       "         [False, False, False]]),\n",
       " tensor([[False, False, False, False, False],\n",
       "         [False, False, False, False, False],\n",
       "         [False, False, False, False, False]]))"
      ]
     },
     "execution_count": 231,
     "metadata": {},
     "output_type": "execute_result"
    }
   ],
   "source": [
    "params_after[\"l1\"] == params_before[\"l1\"], params_after[\"l2\"] == params_before[\"l2\"]"
   ]
  },
  {
   "cell_type": "code",
   "execution_count": null,
   "id": "798559f1",
   "metadata": {},
   "outputs": [],
   "source": [
    "# как можно заметить, веса каждого из слоёв действительно изменились"
   ]
  },
  {
   "cell_type": "code",
   "execution_count": null,
   "id": "222d29df",
   "metadata": {},
   "outputs": [],
   "source": []
  },
  {
   "cell_type": "code",
   "execution_count": null,
   "id": "112ea540",
   "metadata": {},
   "outputs": [],
   "source": []
  },
  {
   "cell_type": "markdown",
   "id": "cce723eb",
   "metadata": {},
   "source": [
    "### 2) 2 слоя, никто не заморожен, но подаём оптимизатору только 2ой слой l2"
   ]
  },
  {
   "cell_type": "code",
   "execution_count": 232,
   "id": "f9aaf0c1",
   "metadata": {},
   "outputs": [],
   "source": [
    "# model\n",
    "l1 = nn.Linear(3, 5, bias=False)\n",
    "l2 = nn.Linear(5, 3, bias=False)"
   ]
  },
  {
   "cell_type": "code",
   "execution_count": 233,
   "id": "5e3f902c",
   "metadata": {},
   "outputs": [
    {
     "data": {
      "text/plain": [
       "{'l1': tensor([[ 0.2510, -0.0491, -0.0356],\n",
       "         [-0.3621, -0.2088,  0.3752],\n",
       "         [-0.2315,  0.3586, -0.2289],\n",
       "         [-0.1345,  0.0123, -0.5298],\n",
       "         [-0.0058, -0.0582, -0.0519]]),\n",
       " 'l2': tensor([[-0.0894,  0.3526,  0.3300, -0.3031,  0.2077],\n",
       "         [-0.3508, -0.3807,  0.1367,  0.0066, -0.2086],\n",
       "         [-0.4313, -0.1731,  0.1494, -0.4139, -0.4345]])}"
      ]
     },
     "execution_count": 233,
     "metadata": {},
     "output_type": "execute_result"
    }
   ],
   "source": [
    "params_before = {\"l1\": list(l1.parameters())[0].detach().clone(), \"l2\": list(l2.parameters())[0].detach().clone()}\n",
    "params_before"
   ]
  },
  {
   "cell_type": "code",
   "execution_count": 234,
   "id": "bd2b9e74",
   "metadata": {},
   "outputs": [
    {
     "data": {
      "text/plain": [
       "SGD (\n",
       "Parameter Group 0\n",
       "    dampening: 0\n",
       "    differentiable: False\n",
       "    foreach: None\n",
       "    lr: 10\n",
       "    maximize: False\n",
       "    momentum: 0\n",
       "    nesterov: False\n",
       "    weight_decay: 0\n",
       ")"
      ]
     },
     "execution_count": 234,
     "metadata": {},
     "output_type": "execute_result"
    }
   ],
   "source": [
    "optimizer = torch.optim.SGD([{\"params\": l2.parameters(), \"lr\": 10}])\n",
    "optimizer"
   ]
  },
  {
   "cell_type": "code",
   "execution_count": null,
   "id": "0ce26120",
   "metadata": {},
   "outputs": [],
   "source": []
  },
  {
   "cell_type": "code",
   "execution_count": 190,
   "id": "d7141812",
   "metadata": {},
   "outputs": [],
   "source": [
    "# перед backward pass попробуем проверить, есть ли какие-то градиенты "
   ]
  },
  {
   "cell_type": "code",
   "execution_count": 235,
   "id": "695043a6",
   "metadata": {},
   "outputs": [],
   "source": [
    "l1.weight.grad"
   ]
  },
  {
   "cell_type": "code",
   "execution_count": 236,
   "id": "deb7454f",
   "metadata": {},
   "outputs": [],
   "source": [
    "l2.weight.grad"
   ]
  },
  {
   "cell_type": "code",
   "execution_count": null,
   "id": "f899e38c",
   "metadata": {},
   "outputs": [],
   "source": []
  },
  {
   "cell_type": "code",
   "execution_count": null,
   "id": "b4c97ea3",
   "metadata": {},
   "outputs": [],
   "source": [
    "random_input -> l1 -> y -> l2 -> z"
   ]
  },
  {
   "cell_type": "code",
   "execution_count": 237,
   "id": "39b37f0c",
   "metadata": {},
   "outputs": [],
   "source": [
    "y = l1(random_input)\n",
    "z = l2(y)"
   ]
  },
  {
   "cell_type": "code",
   "execution_count": 238,
   "id": "9601302f",
   "metadata": {},
   "outputs": [
    {
     "data": {
      "text/plain": [
       "tensor([[ 0.4786, -1.3142,  0.0368,  0.9435,  0.1212],\n",
       "        [ 0.2457, -0.5041, -0.2003,  0.6512,  0.1324],\n",
       "        [ 0.0856, -0.5909,  0.3718,  0.3371, -0.0138]], grad_fn=<MmBackward0>)"
      ]
     },
     "execution_count": 238,
     "metadata": {},
     "output_type": "execute_result"
    }
   ],
   "source": [
    "y"
   ]
  },
  {
   "cell_type": "code",
   "execution_count": 239,
   "id": "5fb838ca",
   "metadata": {},
   "outputs": [
    {
     "data": {
      "text/plain": [
       "tensor([[-0.7548,  0.3184, -0.4167],\n",
       "        [-0.4357,  0.0550, -0.3757],\n",
       "        [-0.1984,  0.2508, -0.0127]], grad_fn=<MmBackward0>)"
      ]
     },
     "execution_count": 239,
     "metadata": {},
     "output_type": "execute_result"
    }
   ],
   "source": [
    "z"
   ]
  },
  {
   "cell_type": "code",
   "execution_count": 240,
   "id": "79cd47e5",
   "metadata": {},
   "outputs": [],
   "source": [
    "loss = loss_fn(z, random_output)"
   ]
  },
  {
   "cell_type": "code",
   "execution_count": 241,
   "id": "587b98c8",
   "metadata": {},
   "outputs": [
    {
     "data": {
      "text/plain": [
       "tensor(0.4437, grad_fn=<MseLossBackward0>)"
      ]
     },
     "execution_count": 241,
     "metadata": {},
     "output_type": "execute_result"
    }
   ],
   "source": [
    "loss"
   ]
  },
  {
   "cell_type": "code",
   "execution_count": 242,
   "id": "2bb30d89",
   "metadata": {},
   "outputs": [],
   "source": [
    "loss.backward()"
   ]
  },
  {
   "cell_type": "code",
   "execution_count": 245,
   "id": "84074130",
   "metadata": {},
   "outputs": [
    {
     "data": {
      "text/plain": [
       "tensor([[-0.0152, -0.0220,  0.0207],\n",
       "        [-0.1045, -0.1452,  0.1032],\n",
       "        [-0.0195, -0.0285,  0.0161],\n",
       "        [ 0.0936,  0.1272, -0.0851],\n",
       "        [-0.0071, -0.0135,  0.0119]])"
      ]
     },
     "execution_count": 245,
     "metadata": {},
     "output_type": "execute_result"
    }
   ],
   "source": [
    "l1.weight.grad\n",
    "\n",
    "# как можно заметить, grad для слоя l1 расчитались т.к. requires_grad=True!"
   ]
  },
  {
   "cell_type": "code",
   "execution_count": 246,
   "id": "ea4f3279",
   "metadata": {},
   "outputs": [
    {
     "data": {
      "text/plain": [
       "tensor([[-0.0205,  0.0976, -0.0481, -0.0368,  0.0039],\n",
       "        [ 0.0558, -0.2574,  0.1215,  0.1018, -0.0086],\n",
       "        [-0.0331,  0.1476, -0.0677, -0.0538,  0.0055]])"
      ]
     },
     "execution_count": 246,
     "metadata": {},
     "output_type": "execute_result"
    }
   ],
   "source": [
    "l2.weight.grad"
   ]
  },
  {
   "cell_type": "code",
   "execution_count": 247,
   "id": "9900e17a",
   "metadata": {},
   "outputs": [],
   "source": [
    "optimizer.step()\n",
    "optimizer.zero_grad()"
   ]
  },
  {
   "cell_type": "code",
   "execution_count": null,
   "id": "64345b9a",
   "metadata": {},
   "outputs": [],
   "source": []
  },
  {
   "cell_type": "code",
   "execution_count": 136,
   "id": "23d04bcc",
   "metadata": {},
   "outputs": [],
   "source": [
    "# посмотрим на параметры слоёв, после backward step"
   ]
  },
  {
   "cell_type": "code",
   "execution_count": 248,
   "id": "5301a3ce",
   "metadata": {},
   "outputs": [
    {
     "data": {
      "text/plain": [
       "{'l1': tensor([[ 0.2510, -0.0491, -0.0356],\n",
       "         [-0.3621, -0.2088,  0.3752],\n",
       "         [-0.2315,  0.3586, -0.2289],\n",
       "         [-0.1345,  0.0123, -0.5298],\n",
       "         [-0.0058, -0.0582, -0.0519]]),\n",
       " 'l2': tensor([[ 0.1157, -0.6238,  0.8114,  0.0650,  0.1687],\n",
       "         [-0.9088,  2.1933, -1.0786, -1.0111, -0.1225],\n",
       "         [-0.1008, -1.6490,  0.8266,  0.1239, -0.4896]])}"
      ]
     },
     "execution_count": 248,
     "metadata": {},
     "output_type": "execute_result"
    }
   ],
   "source": [
    "params_after = {\"l1\": list(l1.parameters())[0].detach().clone(), \"l2\": list(l2.parameters())[0].detach().clone()}\n",
    "params_after"
   ]
  },
  {
   "cell_type": "code",
   "execution_count": 249,
   "id": "77cd2e02",
   "metadata": {},
   "outputs": [
    {
     "data": {
      "text/plain": [
       "{'l1': tensor([[ 0.2510, -0.0491, -0.0356],\n",
       "         [-0.3621, -0.2088,  0.3752],\n",
       "         [-0.2315,  0.3586, -0.2289],\n",
       "         [-0.1345,  0.0123, -0.5298],\n",
       "         [-0.0058, -0.0582, -0.0519]]),\n",
       " 'l2': tensor([[-0.0894,  0.3526,  0.3300, -0.3031,  0.2077],\n",
       "         [-0.3508, -0.3807,  0.1367,  0.0066, -0.2086],\n",
       "         [-0.4313, -0.1731,  0.1494, -0.4139, -0.4345]])}"
      ]
     },
     "execution_count": 249,
     "metadata": {},
     "output_type": "execute_result"
    }
   ],
   "source": [
    "params_before"
   ]
  },
  {
   "cell_type": "code",
   "execution_count": 250,
   "id": "3a284650",
   "metadata": {},
   "outputs": [
    {
     "data": {
      "text/plain": [
       "(tensor([[True, True, True],\n",
       "         [True, True, True],\n",
       "         [True, True, True],\n",
       "         [True, True, True],\n",
       "         [True, True, True]]),\n",
       " tensor([[False, False, False, False, False],\n",
       "         [False, False, False, False, False],\n",
       "         [False, False, False, False, False]]))"
      ]
     },
     "execution_count": 250,
     "metadata": {},
     "output_type": "execute_result"
    }
   ],
   "source": [
    "params_after[\"l1\"] == params_before[\"l1\"], params_after[\"l2\"] == params_before[\"l2\"]"
   ]
  },
  {
   "cell_type": "code",
   "execution_count": null,
   "id": "03e884fa",
   "metadata": {},
   "outputs": [],
   "source": [
    "# 1) Градиенты для l1 всё равно расчитались, что ожидаемо т.к. requires_grad = True\n",
    "# 2) Обновление весов произошло только для 2ого слоя l2 т.к. именно он и был передан в оптимизатор\n",
    "# так что веса 1ого слоя l1 не будут изменяться, хоть и будут расчитываться градиенты"
   ]
  },
  {
   "cell_type": "code",
   "execution_count": null,
   "id": "2d4c8b5b",
   "metadata": {},
   "outputs": [],
   "source": []
  },
  {
   "cell_type": "markdown",
   "id": "bcc1dd25",
   "metadata": {},
   "source": [
    "### 3) 2 слоя, никто не заморожен, но подаём оптимизатору только 1ый слой l1"
   ]
  },
  {
   "cell_type": "code",
   "execution_count": 251,
   "id": "d30c060b",
   "metadata": {},
   "outputs": [],
   "source": [
    "# model\n",
    "l1 = nn.Linear(3, 5, bias=False)\n",
    "l2 = nn.Linear(5, 3, bias=False)"
   ]
  },
  {
   "cell_type": "code",
   "execution_count": 252,
   "id": "c65625c4",
   "metadata": {},
   "outputs": [
    {
     "data": {
      "text/plain": [
       "{'l1': tensor([[ 0.0732, -0.4159, -0.5058],\n",
       "         [-0.2224, -0.0930, -0.5246],\n",
       "         [-0.3855,  0.0379, -0.5444],\n",
       "         [-0.0811, -0.3728, -0.4002],\n",
       "         [ 0.2269, -0.4444, -0.4375]]),\n",
       " 'l2': tensor([[ 0.2550,  0.0836,  0.4073, -0.1195, -0.2160],\n",
       "         [-0.0414,  0.0023,  0.3411, -0.4455, -0.0318],\n",
       "         [ 0.1978, -0.2463, -0.2272,  0.2161, -0.4285]])}"
      ]
     },
     "execution_count": 252,
     "metadata": {},
     "output_type": "execute_result"
    }
   ],
   "source": [
    "params_before = {\"l1\": list(l1.parameters())[0].detach().clone(), \"l2\": list(l2.parameters())[0].detach().clone()}\n",
    "params_before"
   ]
  },
  {
   "cell_type": "code",
   "execution_count": 253,
   "id": "e456a8ae",
   "metadata": {},
   "outputs": [
    {
     "data": {
      "text/plain": [
       "SGD (\n",
       "Parameter Group 0\n",
       "    dampening: 0\n",
       "    differentiable: False\n",
       "    foreach: None\n",
       "    lr: 10\n",
       "    maximize: False\n",
       "    momentum: 0\n",
       "    nesterov: False\n",
       "    weight_decay: 0\n",
       ")"
      ]
     },
     "execution_count": 253,
     "metadata": {},
     "output_type": "execute_result"
    }
   ],
   "source": [
    "optimizer = torch.optim.SGD([{\"params\": l1.parameters(), \"lr\": 10}])\n",
    "optimizer"
   ]
  },
  {
   "cell_type": "code",
   "execution_count": null,
   "id": "94bd08a9",
   "metadata": {},
   "outputs": [],
   "source": []
  },
  {
   "cell_type": "code",
   "execution_count": 254,
   "id": "a3cd502e",
   "metadata": {},
   "outputs": [],
   "source": [
    "# перед backward pass попробуем проверить, есть ли какие-то градиенты "
   ]
  },
  {
   "cell_type": "code",
   "execution_count": 255,
   "id": "9825b708",
   "metadata": {},
   "outputs": [],
   "source": [
    "l1.weight.grad"
   ]
  },
  {
   "cell_type": "code",
   "execution_count": 256,
   "id": "b1fd1139",
   "metadata": {},
   "outputs": [],
   "source": [
    "l2.weight.grad"
   ]
  },
  {
   "cell_type": "code",
   "execution_count": null,
   "id": "bd2fb32f",
   "metadata": {},
   "outputs": [],
   "source": []
  },
  {
   "cell_type": "code",
   "execution_count": null,
   "id": "de39d0d5",
   "metadata": {},
   "outputs": [],
   "source": [
    "random_input -> l1 -> y -> l2 -> z"
   ]
  },
  {
   "cell_type": "code",
   "execution_count": 257,
   "id": "e622f1fc",
   "metadata": {},
   "outputs": [],
   "source": [
    "y = l1(random_input)\n",
    "z = l2(y)"
   ]
  },
  {
   "cell_type": "code",
   "execution_count": 258,
   "id": "2217895c",
   "metadata": {},
   "outputs": [
    {
     "data": {
      "text/plain": [
       "tensor([[ 1.3370,  0.8276,  0.5810,  0.8564,  1.4334],\n",
       "        [ 1.2001,  0.7081,  0.5012,  0.9180,  1.2229],\n",
       "        [ 0.0448,  0.2097,  0.2678, -0.0573,  0.0338]], grad_fn=<MmBackward0>)"
      ]
     },
     "execution_count": 258,
     "metadata": {},
     "output_type": "execute_result"
    }
   ],
   "source": [
    "y"
   ]
  },
  {
   "cell_type": "code",
   "execution_count": 259,
   "id": "66cacc1a",
   "metadata": {},
   "outputs": [
    {
     "data": {
      "text/plain": [
       "tensor([[ 0.2348, -0.2824, -0.5005],\n",
       "        [ 0.1956, -0.3250, -0.3765],\n",
       "        [ 0.1376,  0.1144, -0.1305]], grad_fn=<MmBackward0>)"
      ]
     },
     "execution_count": 259,
     "metadata": {},
     "output_type": "execute_result"
    }
   ],
   "source": [
    "z"
   ]
  },
  {
   "cell_type": "code",
   "execution_count": 260,
   "id": "b38ecebe",
   "metadata": {},
   "outputs": [],
   "source": [
    "loss = loss_fn(z, random_output)"
   ]
  },
  {
   "cell_type": "code",
   "execution_count": 261,
   "id": "5263a3bf",
   "metadata": {},
   "outputs": [
    {
     "data": {
      "text/plain": [
       "tensor(0.5901, grad_fn=<MseLossBackward0>)"
      ]
     },
     "execution_count": 261,
     "metadata": {},
     "output_type": "execute_result"
    }
   ],
   "source": [
    "loss"
   ]
  },
  {
   "cell_type": "code",
   "execution_count": 262,
   "id": "9ae6354f",
   "metadata": {},
   "outputs": [],
   "source": [
    "loss.backward()"
   ]
  },
  {
   "cell_type": "code",
   "execution_count": 263,
   "id": "16e55da4",
   "metadata": {},
   "outputs": [
    {
     "data": {
      "text/plain": [
       "tensor([[ 0.0526, -0.1361, -0.1318],\n",
       "        [ 0.0765,  0.0299, -0.1010],\n",
       "        [ 0.1832,  0.0836, -0.2422],\n",
       "        [-0.0784, -0.2123,  0.0373],\n",
       "        [ 0.0061,  0.1417,  0.0485]])"
      ]
     },
     "execution_count": 263,
     "metadata": {},
     "output_type": "execute_result"
    }
   ],
   "source": [
    "l1.weight.grad\n",
    "\n",
    "# как можно заметить, grad для слоя l1 расчитались т.к. requires_grad=True!"
   ]
  },
  {
   "cell_type": "code",
   "execution_count": 264,
   "id": "56fceb5c",
   "metadata": {},
   "outputs": [
    {
     "data": {
      "text/plain": [
       "tensor([[ 0.4704,  0.2836,  0.2005,  0.3359,  0.4893],\n",
       "        [-0.2801, -0.1348, -0.0777, -0.2397, -0.2822],\n",
       "        [-0.0225, -0.0397, -0.0407,  0.0182, -0.0324]])"
      ]
     },
     "execution_count": 264,
     "metadata": {},
     "output_type": "execute_result"
    }
   ],
   "source": [
    "l2.weight.grad"
   ]
  },
  {
   "cell_type": "code",
   "execution_count": 265,
   "id": "7bfcf573",
   "metadata": {},
   "outputs": [],
   "source": [
    "optimizer.step()\n",
    "optimizer.zero_grad()"
   ]
  },
  {
   "cell_type": "code",
   "execution_count": null,
   "id": "39b83fda",
   "metadata": {},
   "outputs": [],
   "source": []
  },
  {
   "cell_type": "code",
   "execution_count": 266,
   "id": "168e5719",
   "metadata": {},
   "outputs": [],
   "source": [
    "# посмотрим на параметры слоёв, после backward step"
   ]
  },
  {
   "cell_type": "code",
   "execution_count": 267,
   "id": "39c2d5e5",
   "metadata": {},
   "outputs": [
    {
     "data": {
      "text/plain": [
       "{'l1': tensor([[-0.4531,  0.9448,  0.8118],\n",
       "         [-0.9878, -0.3923,  0.4854],\n",
       "         [-2.2175, -0.7979,  1.8777],\n",
       "         [ 0.7026,  1.7499, -0.7736],\n",
       "         [ 0.1664, -1.8615, -0.9227]]),\n",
       " 'l2': tensor([[ 0.2550,  0.0836,  0.4073, -0.1195, -0.2160],\n",
       "         [-0.0414,  0.0023,  0.3411, -0.4455, -0.0318],\n",
       "         [ 0.1978, -0.2463, -0.2272,  0.2161, -0.4285]])}"
      ]
     },
     "execution_count": 267,
     "metadata": {},
     "output_type": "execute_result"
    }
   ],
   "source": [
    "params_after = {\"l1\": list(l1.parameters())[0].detach().clone(), \"l2\": list(l2.parameters())[0].detach().clone()}\n",
    "params_after"
   ]
  },
  {
   "cell_type": "code",
   "execution_count": 268,
   "id": "13c95727",
   "metadata": {},
   "outputs": [
    {
     "data": {
      "text/plain": [
       "{'l1': tensor([[ 0.0732, -0.4159, -0.5058],\n",
       "         [-0.2224, -0.0930, -0.5246],\n",
       "         [-0.3855,  0.0379, -0.5444],\n",
       "         [-0.0811, -0.3728, -0.4002],\n",
       "         [ 0.2269, -0.4444, -0.4375]]),\n",
       " 'l2': tensor([[ 0.2550,  0.0836,  0.4073, -0.1195, -0.2160],\n",
       "         [-0.0414,  0.0023,  0.3411, -0.4455, -0.0318],\n",
       "         [ 0.1978, -0.2463, -0.2272,  0.2161, -0.4285]])}"
      ]
     },
     "execution_count": 268,
     "metadata": {},
     "output_type": "execute_result"
    }
   ],
   "source": [
    "params_before"
   ]
  },
  {
   "cell_type": "code",
   "execution_count": 269,
   "id": "7f8c4d14",
   "metadata": {},
   "outputs": [
    {
     "data": {
      "text/plain": [
       "(tensor([[False, False, False],\n",
       "         [False, False, False],\n",
       "         [False, False, False],\n",
       "         [False, False, False],\n",
       "         [False, False, False]]),\n",
       " tensor([[True, True, True, True, True],\n",
       "         [True, True, True, True, True],\n",
       "         [True, True, True, True, True]]))"
      ]
     },
     "execution_count": 269,
     "metadata": {},
     "output_type": "execute_result"
    }
   ],
   "source": [
    "params_after[\"l1\"] == params_before[\"l1\"], params_after[\"l2\"] == params_before[\"l2\"]"
   ]
  },
  {
   "cell_type": "code",
   "execution_count": null,
   "id": "8f5c1a36",
   "metadata": {},
   "outputs": [],
   "source": [
    "# 1) Градиенты для l2 всё равно расчитались, что ожидаемо т.к. requires_grad = True\n",
    "# 2) Обновление весов произошло только для 1ого слоя l1 т.к. именно он и был передан в оптимизатор\n",
    "# так что веса 2ого слоя l2 не будут изменяться, хоть и будут расчитываться градиенты для него"
   ]
  },
  {
   "cell_type": "code",
   "execution_count": null,
   "id": "71c4d47a",
   "metadata": {},
   "outputs": [],
   "source": []
  },
  {
   "cell_type": "code",
   "execution_count": null,
   "id": "3270f106",
   "metadata": {},
   "outputs": [],
   "source": []
  },
  {
   "cell_type": "markdown",
   "id": "ca131712",
   "metadata": {},
   "source": [
    "### 4) 2 слоя, заморожён 2ой слой l2, подаём оба слоя оптимизатору "
   ]
  },
  {
   "cell_type": "code",
   "execution_count": 274,
   "id": "fa72fee5",
   "metadata": {},
   "outputs": [],
   "source": [
    "# model\n",
    "l1 = nn.Linear(3, 5, bias=False)\n",
    "l2 = nn.Linear(5, 3, bias=False)"
   ]
  },
  {
   "cell_type": "code",
   "execution_count": 275,
   "id": "f683688f",
   "metadata": {},
   "outputs": [],
   "source": [
    "# замораживаем параметры 2ого слоя l2\n",
    "\n",
    "for param in l2.parameters():\n",
    "    param.requires_grad = False"
   ]
  },
  {
   "cell_type": "code",
   "execution_count": 276,
   "id": "f135bf6f",
   "metadata": {},
   "outputs": [
    {
     "data": {
      "text/plain": [
       "{'l1': tensor([[ 0.1572,  0.0173, -0.1390],\n",
       "         [-0.3501, -0.1036, -0.2324],\n",
       "         [ 0.4665, -0.5620, -0.3683],\n",
       "         [-0.4697, -0.1055,  0.4499],\n",
       "         [ 0.5061, -0.5026, -0.0250]]),\n",
       " 'l2': tensor([[ 0.2625,  0.1971,  0.3663, -0.0124, -0.3005],\n",
       "         [ 0.2958, -0.1534,  0.2316, -0.1102,  0.1901],\n",
       "         [ 0.4022,  0.4158, -0.4070, -0.2958, -0.1849]])}"
      ]
     },
     "execution_count": 276,
     "metadata": {},
     "output_type": "execute_result"
    }
   ],
   "source": [
    "params_before = {\"l1\": list(l1.parameters())[0].detach().clone(), \"l2\": list(l2.parameters())[0].detach().clone()}\n",
    "params_before"
   ]
  },
  {
   "cell_type": "code",
   "execution_count": 277,
   "id": "9ab9afec",
   "metadata": {},
   "outputs": [
    {
     "data": {
      "text/plain": [
       "SGD (\n",
       "Parameter Group 0\n",
       "    dampening: 0\n",
       "    differentiable: False\n",
       "    foreach: None\n",
       "    lr: 10\n",
       "    maximize: False\n",
       "    momentum: 0\n",
       "    nesterov: False\n",
       "    weight_decay: 0\n",
       "\n",
       "Parameter Group 1\n",
       "    dampening: 0\n",
       "    differentiable: False\n",
       "    foreach: None\n",
       "    lr: 10\n",
       "    maximize: False\n",
       "    momentum: 0\n",
       "    nesterov: False\n",
       "    weight_decay: 0\n",
       ")"
      ]
     },
     "execution_count": 277,
     "metadata": {},
     "output_type": "execute_result"
    }
   ],
   "source": [
    "optimizer = torch.optim.SGD([{\"params\": l2.parameters(), \"lr\": 10}, {\"params\": l1.parameters(), \"lr\": 10}])\n",
    "optimizer"
   ]
  },
  {
   "cell_type": "code",
   "execution_count": null,
   "id": "dc57477b",
   "metadata": {},
   "outputs": [],
   "source": []
  },
  {
   "cell_type": "code",
   "execution_count": 254,
   "id": "ca06d02c",
   "metadata": {},
   "outputs": [],
   "source": [
    "# перед backward pass попробуем проверить, есть ли какие-то градиенты "
   ]
  },
  {
   "cell_type": "code",
   "execution_count": 278,
   "id": "aa3bbbaa",
   "metadata": {},
   "outputs": [],
   "source": [
    "l1.weight.grad"
   ]
  },
  {
   "cell_type": "code",
   "execution_count": 279,
   "id": "d3ad3a94",
   "metadata": {},
   "outputs": [],
   "source": [
    "l2.weight.grad"
   ]
  },
  {
   "cell_type": "code",
   "execution_count": null,
   "id": "aa42f7dc",
   "metadata": {},
   "outputs": [],
   "source": []
  },
  {
   "cell_type": "code",
   "execution_count": null,
   "id": "c3ba8f38",
   "metadata": {},
   "outputs": [],
   "source": [
    "random_input -> l1 -> y -> l2 -> z"
   ]
  },
  {
   "cell_type": "code",
   "execution_count": 280,
   "id": "39b15dcf",
   "metadata": {},
   "outputs": [],
   "source": [
    "y = l1(random_input)\n",
    "z = l2(y)"
   ]
  },
  {
   "cell_type": "code",
   "execution_count": 281,
   "id": "6dd8abfb",
   "metadata": {},
   "outputs": [
    {
     "data": {
      "text/plain": [
       "tensor([[ 0.5399, -0.0027,  1.6861, -1.6732,  0.9818],\n",
       "        [ 0.2649,  0.2384,  1.3897, -0.7818,  0.8677],\n",
       "        [ 0.1779, -0.0609, -0.0179, -0.6015, -0.1991]], grad_fn=<MmBackward0>)"
      ]
     },
     "execution_count": 281,
     "metadata": {},
     "output_type": "execute_result"
    }
   ],
   "source": [
    "y"
   ]
  },
  {
   "cell_type": "code",
   "execution_count": 282,
   "id": "596636c3",
   "metadata": {},
   "outputs": [
    {
     "data": {
      "text/plain": [
       "tensor([[ 0.4846,  0.9216, -0.1568],\n",
       "        [ 0.3746,  0.6147, -0.2891],\n",
       "        [ 0.0954,  0.0862,  0.2683]], grad_fn=<MmBackward0>)"
      ]
     },
     "execution_count": 282,
     "metadata": {},
     "output_type": "execute_result"
    }
   ],
   "source": [
    "z"
   ]
  },
  {
   "cell_type": "code",
   "execution_count": 283,
   "id": "74a27ddc",
   "metadata": {},
   "outputs": [],
   "source": [
    "loss = loss_fn(z, random_output)"
   ]
  },
  {
   "cell_type": "code",
   "execution_count": 284,
   "id": "1cc6abdc",
   "metadata": {},
   "outputs": [
    {
     "data": {
      "text/plain": [
       "tensor(0.6677, grad_fn=<MseLossBackward0>)"
      ]
     },
     "execution_count": 284,
     "metadata": {},
     "output_type": "execute_result"
    }
   ],
   "source": [
    "loss"
   ]
  },
  {
   "cell_type": "code",
   "execution_count": 285,
   "id": "c365d659",
   "metadata": {},
   "outputs": [],
   "source": [
    "loss.backward()"
   ]
  },
  {
   "cell_type": "code",
   "execution_count": 286,
   "id": "b5a715dd",
   "metadata": {},
   "outputs": [
    {
     "data": {
      "text/plain": [
       "tensor([[ 2.6226e-01, -1.2790e-01, -4.4087e-01],\n",
       "        [-2.4403e-04, -1.6964e-01, -7.9655e-02],\n",
       "        [ 2.9802e-01, -2.3770e-02, -4.3012e-01],\n",
       "        [-5.4779e-02,  4.4075e-02,  1.0432e-01],\n",
       "        [-3.4147e-02,  1.6901e-01,  1.2350e-01]])"
      ]
     },
     "execution_count": 286,
     "metadata": {},
     "output_type": "execute_result"
    }
   ],
   "source": [
    "l1.weight.grad\n",
    "\n",
    "# как можно заметить, grad для слоя l1 расчитались т.к. requires_grad=True!"
   ]
  },
  {
   "cell_type": "code",
   "execution_count": 287,
   "id": "e4ff0bbc",
   "metadata": {},
   "outputs": [],
   "source": [
    "l2.weight.grad"
   ]
  },
  {
   "cell_type": "code",
   "execution_count": 288,
   "id": "05cd907c",
   "metadata": {},
   "outputs": [],
   "source": [
    "optimizer.step()\n",
    "optimizer.zero_grad()"
   ]
  },
  {
   "cell_type": "code",
   "execution_count": null,
   "id": "1cb20624",
   "metadata": {},
   "outputs": [],
   "source": []
  },
  {
   "cell_type": "code",
   "execution_count": 266,
   "id": "73c92185",
   "metadata": {},
   "outputs": [],
   "source": [
    "# посмотрим на параметры слоёв, после backward step"
   ]
  },
  {
   "cell_type": "code",
   "execution_count": 289,
   "id": "ea076793",
   "metadata": {},
   "outputs": [
    {
     "data": {
      "text/plain": [
       "{'l1': tensor([[-2.4654,  1.2964,  4.2697],\n",
       "         [-0.3476,  1.5928,  0.5641],\n",
       "         [-2.5137, -0.3243,  3.9329],\n",
       "         [ 0.0781, -0.5463, -0.5933],\n",
       "         [ 0.8475, -2.1927, -1.2600]]),\n",
       " 'l2': tensor([[ 0.2625,  0.1971,  0.3663, -0.0124, -0.3005],\n",
       "         [ 0.2958, -0.1534,  0.2316, -0.1102,  0.1901],\n",
       "         [ 0.4022,  0.4158, -0.4070, -0.2958, -0.1849]])}"
      ]
     },
     "execution_count": 289,
     "metadata": {},
     "output_type": "execute_result"
    }
   ],
   "source": [
    "params_after = {\"l1\": list(l1.parameters())[0].detach().clone(), \"l2\": list(l2.parameters())[0].detach().clone()}\n",
    "params_after"
   ]
  },
  {
   "cell_type": "code",
   "execution_count": 290,
   "id": "c376b285",
   "metadata": {},
   "outputs": [
    {
     "data": {
      "text/plain": [
       "{'l1': tensor([[ 0.1572,  0.0173, -0.1390],\n",
       "         [-0.3501, -0.1036, -0.2324],\n",
       "         [ 0.4665, -0.5620, -0.3683],\n",
       "         [-0.4697, -0.1055,  0.4499],\n",
       "         [ 0.5061, -0.5026, -0.0250]]),\n",
       " 'l2': tensor([[ 0.2625,  0.1971,  0.3663, -0.0124, -0.3005],\n",
       "         [ 0.2958, -0.1534,  0.2316, -0.1102,  0.1901],\n",
       "         [ 0.4022,  0.4158, -0.4070, -0.2958, -0.1849]])}"
      ]
     },
     "execution_count": 290,
     "metadata": {},
     "output_type": "execute_result"
    }
   ],
   "source": [
    "params_before"
   ]
  },
  {
   "cell_type": "code",
   "execution_count": 291,
   "id": "9cdff2aa",
   "metadata": {},
   "outputs": [
    {
     "data": {
      "text/plain": [
       "(tensor([[False, False, False],\n",
       "         [False, False, False],\n",
       "         [False, False, False],\n",
       "         [False, False, False],\n",
       "         [False, False, False]]),\n",
       " tensor([[True, True, True, True, True],\n",
       "         [True, True, True, True, True],\n",
       "         [True, True, True, True, True]]))"
      ]
     },
     "execution_count": 291,
     "metadata": {},
     "output_type": "execute_result"
    }
   ],
   "source": [
    "params_after[\"l1\"] == params_before[\"l1\"], params_after[\"l2\"] == params_before[\"l2\"]"
   ]
  },
  {
   "cell_type": "code",
   "execution_count": null,
   "id": "4506204a",
   "metadata": {},
   "outputs": [],
   "source": [
    "# Вывод: \n",
    "# Как можно заметить, градиенты для 2ого слоя не поступили, но при этом для 1ого слоя градиенты расчитаны\n",
    "\n",
    "# Хоть 2ой слой и был подан в оптимизатор, обновления параметров не произошло т.к. слой был заморожен"
   ]
  },
  {
   "cell_type": "code",
   "execution_count": null,
   "id": "97fff91d",
   "metadata": {},
   "outputs": [],
   "source": []
  },
  {
   "cell_type": "code",
   "execution_count": null,
   "id": "b942fa48",
   "metadata": {},
   "outputs": [],
   "source": []
  },
  {
   "cell_type": "markdown",
   "id": "9ae255b6",
   "metadata": {},
   "source": [
    "### 5) 2 слоя, заморожён 1ый слой l1, подаём оба слоя оптимизаотру"
   ]
  },
  {
   "cell_type": "code",
   "execution_count": 292,
   "id": "22808423",
   "metadata": {},
   "outputs": [],
   "source": [
    "# model\n",
    "l1 = nn.Linear(3, 5, bias=False)\n",
    "l2 = nn.Linear(5, 3, bias=False)"
   ]
  },
  {
   "cell_type": "code",
   "execution_count": 293,
   "id": "20d1fc7d",
   "metadata": {},
   "outputs": [],
   "source": [
    "# замораживаем параметры 1ого слоя l1\n",
    "\n",
    "for param in l1.parameters():\n",
    "    param.requires_grad = False"
   ]
  },
  {
   "cell_type": "code",
   "execution_count": 294,
   "id": "45e64874",
   "metadata": {},
   "outputs": [
    {
     "data": {
      "text/plain": [
       "{'l1': tensor([[-0.3682,  0.5540, -0.0510],\n",
       "         [-0.3830, -0.2569, -0.3189],\n",
       "         [ 0.2356, -0.5036, -0.5383],\n",
       "         [-0.5691,  0.2486,  0.2855],\n",
       "         [-0.3586,  0.1432,  0.4262]]),\n",
       " 'l2': tensor([[ 0.0650, -0.0946,  0.0330, -0.0480,  0.2252],\n",
       "         [-0.3037,  0.2268,  0.2521, -0.2710,  0.3652],\n",
       "         [ 0.4392, -0.1763, -0.1253,  0.2229, -0.3504]])}"
      ]
     },
     "execution_count": 294,
     "metadata": {},
     "output_type": "execute_result"
    }
   ],
   "source": [
    "params_before = {\"l1\": list(l1.parameters())[0].detach().clone(), \"l2\": list(l2.parameters())[0].detach().clone()}\n",
    "params_before"
   ]
  },
  {
   "cell_type": "code",
   "execution_count": 295,
   "id": "6b87e07c",
   "metadata": {},
   "outputs": [
    {
     "data": {
      "text/plain": [
       "SGD (\n",
       "Parameter Group 0\n",
       "    dampening: 0\n",
       "    differentiable: False\n",
       "    foreach: None\n",
       "    lr: 10\n",
       "    maximize: False\n",
       "    momentum: 0\n",
       "    nesterov: False\n",
       "    weight_decay: 0\n",
       "\n",
       "Parameter Group 1\n",
       "    dampening: 0\n",
       "    differentiable: False\n",
       "    foreach: None\n",
       "    lr: 10\n",
       "    maximize: False\n",
       "    momentum: 0\n",
       "    nesterov: False\n",
       "    weight_decay: 0\n",
       ")"
      ]
     },
     "execution_count": 295,
     "metadata": {},
     "output_type": "execute_result"
    }
   ],
   "source": [
    "optimizer = torch.optim.SGD([{\"params\": l2.parameters(), \"lr\": 10}, {\"params\": l1.parameters(), \"lr\": 10}])\n",
    "optimizer"
   ]
  },
  {
   "cell_type": "code",
   "execution_count": null,
   "id": "326e2633",
   "metadata": {},
   "outputs": [],
   "source": []
  },
  {
   "cell_type": "code",
   "execution_count": 254,
   "id": "6a71a7fe",
   "metadata": {},
   "outputs": [],
   "source": [
    "# перед backward pass попробуем проверить, есть ли какие-то градиенты "
   ]
  },
  {
   "cell_type": "code",
   "execution_count": 296,
   "id": "0adc04ed",
   "metadata": {},
   "outputs": [],
   "source": [
    "l1.weight.grad"
   ]
  },
  {
   "cell_type": "code",
   "execution_count": 297,
   "id": "136791b9",
   "metadata": {},
   "outputs": [],
   "source": [
    "l2.weight.grad"
   ]
  },
  {
   "cell_type": "code",
   "execution_count": null,
   "id": "5251a380",
   "metadata": {},
   "outputs": [],
   "source": []
  },
  {
   "cell_type": "code",
   "execution_count": null,
   "id": "d9013c90",
   "metadata": {},
   "outputs": [],
   "source": [
    "random_input -> l1 -> y -> l2 -> z"
   ]
  },
  {
   "cell_type": "code",
   "execution_count": 298,
   "id": "51e037c8",
   "metadata": {},
   "outputs": [],
   "source": [
    "y = l1(random_input)\n",
    "z = l2(y)"
   ]
  },
  {
   "cell_type": "code",
   "execution_count": 299,
   "id": "7b00106a",
   "metadata": {},
   "outputs": [
    {
     "data": {
      "text/plain": [
       "tensor([[-0.6188,  0.1800,  1.6836, -1.5719, -1.5232],\n",
       "        [-0.7388,  0.5070,  1.4330, -0.9923, -0.9552],\n",
       "        [ 0.3524, -0.1404,  0.0602, -0.2266, -0.3312]])"
      ]
     },
     "execution_count": 299,
     "metadata": {},
     "output_type": "execute_result"
    }
   ],
   "source": [
    "y"
   ]
  },
  {
   "cell_type": "code",
   "execution_count": 300,
   "id": "eafdcc72",
   "metadata": {},
   "outputs": [
    {
     "data": {
      "text/plain": [
       "tensor([[-0.2692,  0.5228, -0.3311],\n",
       "        [-0.2161,  0.6206, -0.4799],\n",
       "        [-0.0255, -0.1832,  0.2375]], grad_fn=<MmBackward0>)"
      ]
     },
     "execution_count": 300,
     "metadata": {},
     "output_type": "execute_result"
    }
   ],
   "source": [
    "z"
   ]
  },
  {
   "cell_type": "code",
   "execution_count": 301,
   "id": "98e192b8",
   "metadata": {},
   "outputs": [],
   "source": [
    "loss = loss_fn(z, random_output)"
   ]
  },
  {
   "cell_type": "code",
   "execution_count": 302,
   "id": "001f17f3",
   "metadata": {},
   "outputs": [
    {
     "data": {
      "text/plain": [
       "tensor(0.3013, grad_fn=<MseLossBackward0>)"
      ]
     },
     "execution_count": 302,
     "metadata": {},
     "output_type": "execute_result"
    }
   ],
   "source": [
    "loss"
   ]
  },
  {
   "cell_type": "code",
   "execution_count": 303,
   "id": "01f962fe",
   "metadata": {},
   "outputs": [],
   "source": [
    "loss.backward()"
   ]
  },
  {
   "cell_type": "code",
   "execution_count": 304,
   "id": "a9a71f1c",
   "metadata": {},
   "outputs": [],
   "source": [
    "l1.weight.grad\n",
    "\n",
    "# grad для слоя l1 не получен т.к. данный слой заморожён"
   ]
  },
  {
   "cell_type": "code",
   "execution_count": 307,
   "id": "58367b6f",
   "metadata": {},
   "outputs": [
    {
     "data": {
      "text/plain": [
       "tensor([[-0.1352,  0.0822,  0.2522, -0.1806, -0.1705],\n",
       "        [-0.0451, -0.0212,  0.2711, -0.3045, -0.3052],\n",
       "        [-0.0371,  0.0503, -0.0055,  0.0557,  0.0582]])"
      ]
     },
     "execution_count": 307,
     "metadata": {},
     "output_type": "execute_result"
    }
   ],
   "source": [
    "l2.weight.grad"
   ]
  },
  {
   "cell_type": "code",
   "execution_count": 308,
   "id": "a5ce0b0b",
   "metadata": {},
   "outputs": [],
   "source": [
    "optimizer.step()\n",
    "optimizer.zero_grad()"
   ]
  },
  {
   "cell_type": "code",
   "execution_count": null,
   "id": "170e6fa4",
   "metadata": {},
   "outputs": [],
   "source": []
  },
  {
   "cell_type": "code",
   "execution_count": 266,
   "id": "71e05459",
   "metadata": {},
   "outputs": [],
   "source": [
    "# посмотрим на параметры слоёв, после backward step"
   ]
  },
  {
   "cell_type": "code",
   "execution_count": 309,
   "id": "26cef8bb",
   "metadata": {},
   "outputs": [
    {
     "data": {
      "text/plain": [
       "{'l1': tensor([[-0.3682,  0.5540, -0.0510],\n",
       "         [-0.3830, -0.2569, -0.3189],\n",
       "         [ 0.2356, -0.5036, -0.5383],\n",
       "         [-0.5691,  0.2486,  0.2855],\n",
       "         [-0.3586,  0.1432,  0.4262]]),\n",
       " 'l2': tensor([[ 1.4171, -0.9162, -2.4887,  1.7585,  1.9297],\n",
       "         [ 0.1477,  0.4392, -2.4590,  2.7739,  3.4173],\n",
       "         [ 0.8105, -0.6794, -0.0700, -0.3341, -0.9321]])}"
      ]
     },
     "execution_count": 309,
     "metadata": {},
     "output_type": "execute_result"
    }
   ],
   "source": [
    "params_after = {\"l1\": list(l1.parameters())[0].detach().clone(), \"l2\": list(l2.parameters())[0].detach().clone()}\n",
    "params_after"
   ]
  },
  {
   "cell_type": "code",
   "execution_count": 310,
   "id": "d0c63736",
   "metadata": {},
   "outputs": [
    {
     "data": {
      "text/plain": [
       "{'l1': tensor([[-0.3682,  0.5540, -0.0510],\n",
       "         [-0.3830, -0.2569, -0.3189],\n",
       "         [ 0.2356, -0.5036, -0.5383],\n",
       "         [-0.5691,  0.2486,  0.2855],\n",
       "         [-0.3586,  0.1432,  0.4262]]),\n",
       " 'l2': tensor([[ 0.0650, -0.0946,  0.0330, -0.0480,  0.2252],\n",
       "         [-0.3037,  0.2268,  0.2521, -0.2710,  0.3652],\n",
       "         [ 0.4392, -0.1763, -0.1253,  0.2229, -0.3504]])}"
      ]
     },
     "execution_count": 310,
     "metadata": {},
     "output_type": "execute_result"
    }
   ],
   "source": [
    "params_before"
   ]
  },
  {
   "cell_type": "code",
   "execution_count": 311,
   "id": "d64c5c21",
   "metadata": {
    "scrolled": true
   },
   "outputs": [
    {
     "data": {
      "text/plain": [
       "(tensor([[True, True, True],\n",
       "         [True, True, True],\n",
       "         [True, True, True],\n",
       "         [True, True, True],\n",
       "         [True, True, True]]),\n",
       " tensor([[False, False, False, False, False],\n",
       "         [False, False, False, False, False],\n",
       "         [False, False, False, False, False]]))"
      ]
     },
     "execution_count": 311,
     "metadata": {},
     "output_type": "execute_result"
    }
   ],
   "source": [
    "params_after[\"l1\"] == params_before[\"l1\"], params_after[\"l2\"] == params_before[\"l2\"]"
   ]
  },
  {
   "cell_type": "code",
   "execution_count": null,
   "id": "64565ff3",
   "metadata": {},
   "outputs": [],
   "source": [
    "# Вывод: \n",
    "# Как можно заметить, градиенты для 1ого слоя не поступили, но при этом для 2ого слоя градиенты расчитаны\n",
    "\n",
    "# Хоть 1ый слой и был подан в оптимизатор, обновления параметров не произошло т.к. слой был заморожен"
   ]
  },
  {
   "cell_type": "code",
   "execution_count": null,
   "id": "55a75db6",
   "metadata": {},
   "outputs": [],
   "source": []
  },
  {
   "cell_type": "code",
   "execution_count": null,
   "id": "abb8d351",
   "metadata": {},
   "outputs": [],
   "source": []
  },
  {
   "cell_type": "markdown",
   "id": "3a9ca179",
   "metadata": {},
   "source": [
    "### 6) 2 слоя, оба заморожёны - l1 и l2, подаём оба слоя оптимизатору"
   ]
  },
  {
   "cell_type": "code",
   "execution_count": 312,
   "id": "ad00ed2d",
   "metadata": {},
   "outputs": [],
   "source": [
    "# model\n",
    "l1 = nn.Linear(3, 5, bias=False)\n",
    "l2 = nn.Linear(5, 3, bias=False)"
   ]
  },
  {
   "cell_type": "code",
   "execution_count": 313,
   "id": "54537076",
   "metadata": {},
   "outputs": [],
   "source": [
    "# замораживаем параметры 1ого слоя l1\n",
    "\n",
    "for param in l1.parameters():\n",
    "    param.requires_grad = False\n",
    "    \n",
    "for param in l2.parameters():\n",
    "    param.requires_grad = False"
   ]
  },
  {
   "cell_type": "code",
   "execution_count": 314,
   "id": "812cff48",
   "metadata": {},
   "outputs": [
    {
     "data": {
      "text/plain": [
       "{'l1': tensor([[ 0.2283,  0.1347,  0.3639],\n",
       "         [-0.5015, -0.4797,  0.2593],\n",
       "         [ 0.2080, -0.5374, -0.3220],\n",
       "         [-0.5283, -0.4136, -0.2605],\n",
       "         [ 0.4778, -0.1149,  0.3316]]),\n",
       " 'l2': tensor([[ 0.4247,  0.2038, -0.4004,  0.2250,  0.1706],\n",
       "         [ 0.3466, -0.4411,  0.2750,  0.3661, -0.4161],\n",
       "         [ 0.0468,  0.3818, -0.3253,  0.1467,  0.1976]])}"
      ]
     },
     "execution_count": 314,
     "metadata": {},
     "output_type": "execute_result"
    }
   ],
   "source": [
    "params_before = {\"l1\": list(l1.parameters())[0].detach().clone(), \"l2\": list(l2.parameters())[0].detach().clone()}\n",
    "params_before"
   ]
  },
  {
   "cell_type": "code",
   "execution_count": 315,
   "id": "a2c9fe90",
   "metadata": {},
   "outputs": [
    {
     "data": {
      "text/plain": [
       "SGD (\n",
       "Parameter Group 0\n",
       "    dampening: 0\n",
       "    differentiable: False\n",
       "    foreach: None\n",
       "    lr: 10\n",
       "    maximize: False\n",
       "    momentum: 0\n",
       "    nesterov: False\n",
       "    weight_decay: 0\n",
       "\n",
       "Parameter Group 1\n",
       "    dampening: 0\n",
       "    differentiable: False\n",
       "    foreach: None\n",
       "    lr: 10\n",
       "    maximize: False\n",
       "    momentum: 0\n",
       "    nesterov: False\n",
       "    weight_decay: 0\n",
       ")"
      ]
     },
     "execution_count": 315,
     "metadata": {},
     "output_type": "execute_result"
    }
   ],
   "source": [
    "optimizer = torch.optim.SGD([{\"params\": l2.parameters(), \"lr\": 10}, {\"params\": l1.parameters(), \"lr\": 10}])\n",
    "optimizer"
   ]
  },
  {
   "cell_type": "code",
   "execution_count": null,
   "id": "e95b1c76",
   "metadata": {},
   "outputs": [],
   "source": []
  },
  {
   "cell_type": "code",
   "execution_count": 254,
   "id": "16ff4d57",
   "metadata": {},
   "outputs": [],
   "source": [
    "# перед backward pass попробуем проверить, есть ли какие-то градиенты "
   ]
  },
  {
   "cell_type": "code",
   "execution_count": 316,
   "id": "90253e5e",
   "metadata": {},
   "outputs": [],
   "source": [
    "l1.weight.grad"
   ]
  },
  {
   "cell_type": "code",
   "execution_count": 317,
   "id": "c2be67e8",
   "metadata": {},
   "outputs": [],
   "source": [
    "l2.weight.grad"
   ]
  },
  {
   "cell_type": "code",
   "execution_count": null,
   "id": "2d08c442",
   "metadata": {},
   "outputs": [],
   "source": []
  },
  {
   "cell_type": "code",
   "execution_count": null,
   "id": "68e9af29",
   "metadata": {},
   "outputs": [],
   "source": [
    "random_input -> l1 -> y -> l2 -> z"
   ]
  },
  {
   "cell_type": "code",
   "execution_count": 318,
   "id": "6b597f24",
   "metadata": {},
   "outputs": [],
   "source": [
    "y = l1(random_input)\n",
    "z = l2(y)"
   ]
  },
  {
   "cell_type": "code",
   "execution_count": 319,
   "id": "43432d5a",
   "metadata": {},
   "outputs": [
    {
     "data": {
      "text/plain": [
       "tensor([[-0.4806, -1.1970,  1.1797, -0.1251,  0.0475],\n",
       "        [-0.5253, -0.1275,  1.1513,  0.5126, -0.0676],\n",
       "        [-0.0568, -0.7907, -0.1349, -0.3723, -0.1421]])"
      ]
     },
     "execution_count": 319,
     "metadata": {},
     "output_type": "execute_result"
    }
   ],
   "source": [
    "y"
   ]
  },
  {
   "cell_type": "code",
   "execution_count": 320,
   "id": "e4abe427",
   "metadata": {},
   "outputs": [
    {
     "data": {
      "text/plain": [
       "tensor([[-0.9404,  0.6204, -0.8721],\n",
       "        [-0.6062,  0.4066, -0.3859],\n",
       "        [-0.2393,  0.2149, -0.3434]])"
      ]
     },
     "execution_count": 320,
     "metadata": {},
     "output_type": "execute_result"
    }
   ],
   "source": [
    "z"
   ]
  },
  {
   "cell_type": "code",
   "execution_count": 321,
   "id": "223199cd",
   "metadata": {},
   "outputs": [],
   "source": [
    "loss = loss_fn(z, random_output)"
   ]
  },
  {
   "cell_type": "code",
   "execution_count": 322,
   "id": "6dd7605e",
   "metadata": {},
   "outputs": [
    {
     "data": {
      "text/plain": [
       "tensor(0.5722)"
      ]
     },
     "execution_count": 322,
     "metadata": {},
     "output_type": "execute_result"
    }
   ],
   "source": [
    "loss"
   ]
  },
  {
   "cell_type": "code",
   "execution_count": 323,
   "id": "87d36dc3",
   "metadata": {},
   "outputs": [
    {
     "ename": "RuntimeError",
     "evalue": "element 0 of tensors does not require grad and does not have a grad_fn",
     "output_type": "error",
     "traceback": [
      "\u001b[1;31m---------------------------------------------------------------------------\u001b[0m",
      "\u001b[1;31mRuntimeError\u001b[0m                              Traceback (most recent call last)",
      "Cell \u001b[1;32mIn[323], line 1\u001b[0m\n\u001b[1;32m----> 1\u001b[0m \u001b[43mloss\u001b[49m\u001b[38;5;241;43m.\u001b[39;49m\u001b[43mbackward\u001b[49m\u001b[43m(\u001b[49m\u001b[43m)\u001b[49m\n",
      "File \u001b[1;32m~\\miniconda3\\lib\\site-packages\\torch\\_tensor.py:487\u001b[0m, in \u001b[0;36mTensor.backward\u001b[1;34m(self, gradient, retain_graph, create_graph, inputs)\u001b[0m\n\u001b[0;32m    477\u001b[0m \u001b[38;5;28;01mif\u001b[39;00m has_torch_function_unary(\u001b[38;5;28mself\u001b[39m):\n\u001b[0;32m    478\u001b[0m     \u001b[38;5;28;01mreturn\u001b[39;00m handle_torch_function(\n\u001b[0;32m    479\u001b[0m         Tensor\u001b[38;5;241m.\u001b[39mbackward,\n\u001b[0;32m    480\u001b[0m         (\u001b[38;5;28mself\u001b[39m,),\n\u001b[1;32m   (...)\u001b[0m\n\u001b[0;32m    485\u001b[0m         inputs\u001b[38;5;241m=\u001b[39minputs,\n\u001b[0;32m    486\u001b[0m     )\n\u001b[1;32m--> 487\u001b[0m \u001b[43mtorch\u001b[49m\u001b[38;5;241;43m.\u001b[39;49m\u001b[43mautograd\u001b[49m\u001b[38;5;241;43m.\u001b[39;49m\u001b[43mbackward\u001b[49m\u001b[43m(\u001b[49m\n\u001b[0;32m    488\u001b[0m \u001b[43m    \u001b[49m\u001b[38;5;28;43mself\u001b[39;49m\u001b[43m,\u001b[49m\u001b[43m \u001b[49m\u001b[43mgradient\u001b[49m\u001b[43m,\u001b[49m\u001b[43m \u001b[49m\u001b[43mretain_graph\u001b[49m\u001b[43m,\u001b[49m\u001b[43m \u001b[49m\u001b[43mcreate_graph\u001b[49m\u001b[43m,\u001b[49m\u001b[43m \u001b[49m\u001b[43minputs\u001b[49m\u001b[38;5;241;43m=\u001b[39;49m\u001b[43minputs\u001b[49m\n\u001b[0;32m    489\u001b[0m \u001b[43m\u001b[49m\u001b[43m)\u001b[49m\n",
      "File \u001b[1;32m~\\miniconda3\\lib\\site-packages\\torch\\autograd\\__init__.py:200\u001b[0m, in \u001b[0;36mbackward\u001b[1;34m(tensors, grad_tensors, retain_graph, create_graph, grad_variables, inputs)\u001b[0m\n\u001b[0;32m    195\u001b[0m     retain_graph \u001b[38;5;241m=\u001b[39m create_graph\n\u001b[0;32m    197\u001b[0m \u001b[38;5;66;03m# The reason we repeat same the comment below is that\u001b[39;00m\n\u001b[0;32m    198\u001b[0m \u001b[38;5;66;03m# some Python versions print out the first line of a multi-line function\u001b[39;00m\n\u001b[0;32m    199\u001b[0m \u001b[38;5;66;03m# calls in the traceback and some print out the last line\u001b[39;00m\n\u001b[1;32m--> 200\u001b[0m \u001b[43mVariable\u001b[49m\u001b[38;5;241;43m.\u001b[39;49m\u001b[43m_execution_engine\u001b[49m\u001b[38;5;241;43m.\u001b[39;49m\u001b[43mrun_backward\u001b[49m\u001b[43m(\u001b[49m\u001b[43m  \u001b[49m\u001b[38;5;66;43;03m# Calls into the C++ engine to run the backward pass\u001b[39;49;00m\n\u001b[0;32m    201\u001b[0m \u001b[43m    \u001b[49m\u001b[43mtensors\u001b[49m\u001b[43m,\u001b[49m\u001b[43m \u001b[49m\u001b[43mgrad_tensors_\u001b[49m\u001b[43m,\u001b[49m\u001b[43m \u001b[49m\u001b[43mretain_graph\u001b[49m\u001b[43m,\u001b[49m\u001b[43m \u001b[49m\u001b[43mcreate_graph\u001b[49m\u001b[43m,\u001b[49m\u001b[43m \u001b[49m\u001b[43minputs\u001b[49m\u001b[43m,\u001b[49m\n\u001b[0;32m    202\u001b[0m \u001b[43m    \u001b[49m\u001b[43mallow_unreachable\u001b[49m\u001b[38;5;241;43m=\u001b[39;49m\u001b[38;5;28;43;01mTrue\u001b[39;49;00m\u001b[43m,\u001b[49m\u001b[43m \u001b[49m\u001b[43maccumulate_grad\u001b[49m\u001b[38;5;241;43m=\u001b[39;49m\u001b[38;5;28;43;01mTrue\u001b[39;49;00m\u001b[43m)\u001b[49m\n",
      "\u001b[1;31mRuntimeError\u001b[0m: element 0 of tensors does not require grad and does not have a grad_fn"
     ]
    }
   ],
   "source": [
    "loss.backward()"
   ]
  },
  {
   "cell_type": "markdown",
   "id": "d9dc79b7",
   "metadata": {},
   "source": [
    "# NOTE!\n",
    "\n",
    "т.к. у нас нет обучаемых параметров, то мы просто не можем сделать backward pass т.к. нельзя вычислить производные"
   ]
  },
  {
   "cell_type": "code",
   "execution_count": 324,
   "id": "bc675667",
   "metadata": {},
   "outputs": [],
   "source": [
    "l1.weight.grad\n",
    "\n",
    "# grad для слоя l1 не получен т.к. данный слой заморожён"
   ]
  },
  {
   "cell_type": "code",
   "execution_count": 307,
   "id": "71e99d64",
   "metadata": {},
   "outputs": [
    {
     "data": {
      "text/plain": [
       "tensor([[-0.1352,  0.0822,  0.2522, -0.1806, -0.1705],\n",
       "        [-0.0451, -0.0212,  0.2711, -0.3045, -0.3052],\n",
       "        [-0.0371,  0.0503, -0.0055,  0.0557,  0.0582]])"
      ]
     },
     "execution_count": 307,
     "metadata": {},
     "output_type": "execute_result"
    }
   ],
   "source": [
    "l2.weight.grad"
   ]
  },
  {
   "cell_type": "code",
   "execution_count": 308,
   "id": "69f9febb",
   "metadata": {},
   "outputs": [],
   "source": [
    "optimizer.step()\n",
    "optimizer.zero_grad()"
   ]
  },
  {
   "cell_type": "code",
   "execution_count": null,
   "id": "6c50f8de",
   "metadata": {},
   "outputs": [],
   "source": []
  },
  {
   "cell_type": "code",
   "execution_count": 266,
   "id": "2931c4a4",
   "metadata": {},
   "outputs": [],
   "source": [
    "# посмотрим на параметры слоёв, после backward step"
   ]
  },
  {
   "cell_type": "code",
   "execution_count": 309,
   "id": "1fa29d1d",
   "metadata": {},
   "outputs": [
    {
     "data": {
      "text/plain": [
       "{'l1': tensor([[-0.3682,  0.5540, -0.0510],\n",
       "         [-0.3830, -0.2569, -0.3189],\n",
       "         [ 0.2356, -0.5036, -0.5383],\n",
       "         [-0.5691,  0.2486,  0.2855],\n",
       "         [-0.3586,  0.1432,  0.4262]]),\n",
       " 'l2': tensor([[ 1.4171, -0.9162, -2.4887,  1.7585,  1.9297],\n",
       "         [ 0.1477,  0.4392, -2.4590,  2.7739,  3.4173],\n",
       "         [ 0.8105, -0.6794, -0.0700, -0.3341, -0.9321]])}"
      ]
     },
     "execution_count": 309,
     "metadata": {},
     "output_type": "execute_result"
    }
   ],
   "source": [
    "params_after = {\"l1\": list(l1.parameters())[0].detach().clone(), \"l2\": list(l2.parameters())[0].detach().clone()}\n",
    "params_after"
   ]
  },
  {
   "cell_type": "code",
   "execution_count": 310,
   "id": "098d89a8",
   "metadata": {},
   "outputs": [
    {
     "data": {
      "text/plain": [
       "{'l1': tensor([[-0.3682,  0.5540, -0.0510],\n",
       "         [-0.3830, -0.2569, -0.3189],\n",
       "         [ 0.2356, -0.5036, -0.5383],\n",
       "         [-0.5691,  0.2486,  0.2855],\n",
       "         [-0.3586,  0.1432,  0.4262]]),\n",
       " 'l2': tensor([[ 0.0650, -0.0946,  0.0330, -0.0480,  0.2252],\n",
       "         [-0.3037,  0.2268,  0.2521, -0.2710,  0.3652],\n",
       "         [ 0.4392, -0.1763, -0.1253,  0.2229, -0.3504]])}"
      ]
     },
     "execution_count": 310,
     "metadata": {},
     "output_type": "execute_result"
    }
   ],
   "source": [
    "params_before"
   ]
  },
  {
   "cell_type": "code",
   "execution_count": 311,
   "id": "18f45398",
   "metadata": {
    "scrolled": true
   },
   "outputs": [
    {
     "data": {
      "text/plain": [
       "(tensor([[True, True, True],\n",
       "         [True, True, True],\n",
       "         [True, True, True],\n",
       "         [True, True, True],\n",
       "         [True, True, True]]),\n",
       " tensor([[False, False, False, False, False],\n",
       "         [False, False, False, False, False],\n",
       "         [False, False, False, False, False]]))"
      ]
     },
     "execution_count": 311,
     "metadata": {},
     "output_type": "execute_result"
    }
   ],
   "source": [
    "params_after[\"l1\"] == params_before[\"l1\"], params_after[\"l2\"] == params_before[\"l2\"]"
   ]
  },
  {
   "cell_type": "code",
   "execution_count": null,
   "id": "89a0c956",
   "metadata": {},
   "outputs": [],
   "source": []
  },
  {
   "cell_type": "code",
   "execution_count": null,
   "id": "a180b1c2",
   "metadata": {},
   "outputs": [],
   "source": []
  },
  {
   "cell_type": "markdown",
   "id": "a8e1c89b",
   "metadata": {},
   "source": [
    "### 7) 2 слоя, заморожён 2ой слой l2, подаём только слой l2 оптимизатору"
   ]
  },
  {
   "cell_type": "code",
   "execution_count": 358,
   "id": "9479c823",
   "metadata": {},
   "outputs": [],
   "source": [
    "# model\n",
    "l1 = nn.Linear(3, 5, bias=False)\n",
    "l2 = nn.Linear(5, 3, bias=False)"
   ]
  },
  {
   "cell_type": "code",
   "execution_count": 359,
   "id": "f11df4e5",
   "metadata": {},
   "outputs": [],
   "source": [
    "\n",
    "for param in l2.parameters():\n",
    "    param.requires_grad = False"
   ]
  },
  {
   "cell_type": "code",
   "execution_count": 360,
   "id": "323d8965",
   "metadata": {},
   "outputs": [
    {
     "data": {
      "text/plain": [
       "{'l1': tensor([[-0.0687, -0.2144, -0.1490],\n",
       "         [-0.3149, -0.1710, -0.4956],\n",
       "         [ 0.4321,  0.2358, -0.2912],\n",
       "         [-0.1971,  0.2590, -0.2138],\n",
       "         [ 0.1522,  0.1590, -0.3634]]),\n",
       " 'l2': tensor([[ 0.1120,  0.0274,  0.3906, -0.1618, -0.1150],\n",
       "         [ 0.3853, -0.3652,  0.0323,  0.4309, -0.2005],\n",
       "         [ 0.4287,  0.3968,  0.4161, -0.0427,  0.4046]])}"
      ]
     },
     "execution_count": 360,
     "metadata": {},
     "output_type": "execute_result"
    }
   ],
   "source": [
    "params_before = {\"l1\": list(l1.parameters())[0].detach().clone(), \"l2\": list(l2.parameters())[0].detach().clone()}\n",
    "params_before"
   ]
  },
  {
   "cell_type": "code",
   "execution_count": 361,
   "id": "18565066",
   "metadata": {},
   "outputs": [
    {
     "data": {
      "text/plain": [
       "SGD (\n",
       "Parameter Group 0\n",
       "    dampening: 0\n",
       "    differentiable: False\n",
       "    foreach: None\n",
       "    lr: 10\n",
       "    maximize: False\n",
       "    momentum: 0\n",
       "    nesterov: False\n",
       "    weight_decay: 0\n",
       ")"
      ]
     },
     "execution_count": 361,
     "metadata": {},
     "output_type": "execute_result"
    }
   ],
   "source": [
    "optimizer = torch.optim.SGD([{\"params\": l2.parameters(), \"lr\": 10}])\n",
    "optimizer"
   ]
  },
  {
   "cell_type": "code",
   "execution_count": null,
   "id": "7df430d6",
   "metadata": {},
   "outputs": [],
   "source": []
  },
  {
   "cell_type": "code",
   "execution_count": 362,
   "id": "89ab2725",
   "metadata": {},
   "outputs": [],
   "source": [
    "# перед backward pass попробуем проверить, есть ли какие-то градиенты "
   ]
  },
  {
   "cell_type": "code",
   "execution_count": 363,
   "id": "870662d3",
   "metadata": {},
   "outputs": [],
   "source": [
    "l1.weight.grad"
   ]
  },
  {
   "cell_type": "code",
   "execution_count": 364,
   "id": "0fcc9827",
   "metadata": {},
   "outputs": [],
   "source": [
    "l2.weight.grad"
   ]
  },
  {
   "cell_type": "code",
   "execution_count": null,
   "id": "6e150c0a",
   "metadata": {},
   "outputs": [],
   "source": []
  },
  {
   "cell_type": "code",
   "execution_count": null,
   "id": "277c0d35",
   "metadata": {},
   "outputs": [],
   "source": [
    "random_input -> l1 -> y -> l2 -> z"
   ]
  },
  {
   "cell_type": "code",
   "execution_count": 367,
   "id": "d3aabf2a",
   "metadata": {},
   "outputs": [],
   "source": [
    "y = l1(random_input)\n",
    "z = l2(y)"
   ]
  },
  {
   "cell_type": "code",
   "execution_count": 368,
   "id": "fb3b18ac",
   "metadata": {},
   "outputs": [
    {
     "data": {
      "text/plain": [
       "tensor([[ 0.2818,  0.6447,  1.2310,  0.0861,  0.9798],\n",
       "        [ 0.4019,  0.6996,  0.3971, -0.0939,  0.4224],\n",
       "        [-0.1002,  0.0862,  0.5813,  0.2914,  0.4560]], grad_fn=<MmBackward0>)"
      ]
     },
     "execution_count": 368,
     "metadata": {},
     "output_type": "execute_result"
    }
   ],
   "source": [
    "y"
   ]
  },
  {
   "cell_type": "code",
   "execution_count": 369,
   "id": "2156c381",
   "metadata": {},
   "outputs": [
    {
     "data": {
      "text/plain": [
       "tensor([[ 0.4034, -0.2465,  1.2816],\n",
       "        [ 0.1859, -0.2130,  0.7901],\n",
       "        [ 0.1186, -0.0172,  0.4051]], grad_fn=<MmBackward0>)"
      ]
     },
     "execution_count": 369,
     "metadata": {},
     "output_type": "execute_result"
    }
   ],
   "source": [
    "z"
   ]
  },
  {
   "cell_type": "code",
   "execution_count": 370,
   "id": "62110177",
   "metadata": {},
   "outputs": [],
   "source": [
    "loss = loss_fn(z, random_output)"
   ]
  },
  {
   "cell_type": "code",
   "execution_count": 371,
   "id": "84f89b2b",
   "metadata": {},
   "outputs": [
    {
     "data": {
      "text/plain": [
       "tensor(0.9513, grad_fn=<MseLossBackward0>)"
      ]
     },
     "execution_count": 371,
     "metadata": {},
     "output_type": "execute_result"
    }
   ],
   "source": [
    "loss"
   ]
  },
  {
   "cell_type": "code",
   "execution_count": 372,
   "id": "0a1153bb",
   "metadata": {},
   "outputs": [],
   "source": [
    "loss.backward()"
   ]
  },
  {
   "cell_type": "markdown",
   "id": "2c7fa1d9",
   "metadata": {},
   "source": [
    "# NOTE!\n",
    "\n",
    "backward pass удался т.к. есть обучаемые параметры в графе вычислений, хоть мы их и не подали в оптимизатор"
   ]
  },
  {
   "cell_type": "code",
   "execution_count": 376,
   "id": "07150b8f",
   "metadata": {},
   "outputs": [
    {
     "data": {
      "text/plain": [
       "tensor([[ 0.3104, -0.1020, -0.5003],\n",
       "        [ 0.2538, -0.3571, -0.5175],\n",
       "        [ 0.4150, -0.3202, -0.7383],\n",
       "        [-0.0908,  0.2419,  0.2282],\n",
       "        [ 0.2011, -0.2525, -0.3997]])"
      ]
     },
     "execution_count": 376,
     "metadata": {},
     "output_type": "execute_result"
    }
   ],
   "source": [
    "l1.weight.grad"
   ]
  },
  {
   "cell_type": "code",
   "execution_count": 377,
   "id": "86b32047",
   "metadata": {},
   "outputs": [],
   "source": [
    "l2.weight.grad"
   ]
  },
  {
   "cell_type": "code",
   "execution_count": 378,
   "id": "3185d49f",
   "metadata": {},
   "outputs": [],
   "source": [
    "optimizer.step()\n",
    "optimizer.zero_grad()"
   ]
  },
  {
   "cell_type": "code",
   "execution_count": null,
   "id": "aee32b61",
   "metadata": {},
   "outputs": [],
   "source": []
  },
  {
   "cell_type": "code",
   "execution_count": 266,
   "id": "35a75336",
   "metadata": {},
   "outputs": [],
   "source": [
    "# посмотрим на параметры слоёв, после backward step"
   ]
  },
  {
   "cell_type": "code",
   "execution_count": 379,
   "id": "28eb44df",
   "metadata": {},
   "outputs": [
    {
     "data": {
      "text/plain": [
       "{'l1': tensor([[-0.0687, -0.2144, -0.1490],\n",
       "         [-0.3149, -0.1710, -0.4956],\n",
       "         [ 0.4321,  0.2358, -0.2912],\n",
       "         [-0.1971,  0.2590, -0.2138],\n",
       "         [ 0.1522,  0.1590, -0.3634]]),\n",
       " 'l2': tensor([[ 0.1120,  0.0274,  0.3906, -0.1618, -0.1150],\n",
       "         [ 0.3853, -0.3652,  0.0323,  0.4309, -0.2005],\n",
       "         [ 0.4287,  0.3968,  0.4161, -0.0427,  0.4046]])}"
      ]
     },
     "execution_count": 379,
     "metadata": {},
     "output_type": "execute_result"
    }
   ],
   "source": [
    "params_after = {\"l1\": list(l1.parameters())[0].detach().clone(), \"l2\": list(l2.parameters())[0].detach().clone()}\n",
    "params_after"
   ]
  },
  {
   "cell_type": "code",
   "execution_count": 380,
   "id": "b679c41e",
   "metadata": {},
   "outputs": [
    {
     "data": {
      "text/plain": [
       "{'l1': tensor([[-0.0687, -0.2144, -0.1490],\n",
       "         [-0.3149, -0.1710, -0.4956],\n",
       "         [ 0.4321,  0.2358, -0.2912],\n",
       "         [-0.1971,  0.2590, -0.2138],\n",
       "         [ 0.1522,  0.1590, -0.3634]]),\n",
       " 'l2': tensor([[ 0.1120,  0.0274,  0.3906, -0.1618, -0.1150],\n",
       "         [ 0.3853, -0.3652,  0.0323,  0.4309, -0.2005],\n",
       "         [ 0.4287,  0.3968,  0.4161, -0.0427,  0.4046]])}"
      ]
     },
     "execution_count": 380,
     "metadata": {},
     "output_type": "execute_result"
    }
   ],
   "source": [
    "params_before"
   ]
  },
  {
   "cell_type": "code",
   "execution_count": 381,
   "id": "968daa15",
   "metadata": {
    "scrolled": true
   },
   "outputs": [
    {
     "data": {
      "text/plain": [
       "(tensor([[True, True, True],\n",
       "         [True, True, True],\n",
       "         [True, True, True],\n",
       "         [True, True, True],\n",
       "         [True, True, True]]),\n",
       " tensor([[True, True, True, True, True],\n",
       "         [True, True, True, True, True],\n",
       "         [True, True, True, True, True]]))"
      ]
     },
     "execution_count": 381,
     "metadata": {},
     "output_type": "execute_result"
    }
   ],
   "source": [
    "params_after[\"l1\"] == params_before[\"l1\"], params_after[\"l2\"] == params_before[\"l2\"]"
   ]
  },
  {
   "cell_type": "code",
   "execution_count": null,
   "id": "a2223c26",
   "metadata": {},
   "outputs": [],
   "source": [
    "# l2 не обновился т.к. он заморожён и для него не были поданы градиенты\n",
    "# l1 не обновился т.к. хоть и были расчитаны градиенты, он не был подан в оптимизатор для обновления своих весов"
   ]
  },
  {
   "cell_type": "code",
   "execution_count": null,
   "id": "fb92f1b4",
   "metadata": {},
   "outputs": [],
   "source": []
  },
  {
   "cell_type": "code",
   "execution_count": null,
   "id": "ccd06a85",
   "metadata": {},
   "outputs": [],
   "source": []
  },
  {
   "cell_type": "code",
   "execution_count": null,
   "id": "b4f9a94e",
   "metadata": {},
   "outputs": [],
   "source": []
  },
  {
   "cell_type": "code",
   "execution_count": null,
   "id": "9506b4b2",
   "metadata": {},
   "outputs": [],
   "source": []
  },
  {
   "cell_type": "markdown",
   "id": "20b3d86a",
   "metadata": {},
   "source": [
    "# Вывод: \n",
    "   \n",
    "Если есть цепочка из слоёв или моделей в графе вычислений, а нужно, чтобы не все слои/модели обучались(не важно идут ли те или иные слои/модели раньше или позже по графу вычислений), то есть нескольно способов решения:\n",
    "    \n",
    "    1) Заморозка слоёв/моделей с помощью requires_grad = False и подача всех слоёв/моделей в оптимизатор - обновятлся лишь те параметры, где requires_grad = True\n",
    "    \n",
    "    2) Не делать заморозку слоёв/моделей, а подать в оптимизатор лишь те слои/модели, которые должны обучаться - градиенты будут считаться для всех слоёв/моделей, но обновиться смогут лишь те, которые были поданы в оптимизатор "
   ]
  },
  {
   "cell_type": "code",
   "execution_count": null,
   "id": "66449791",
   "metadata": {},
   "outputs": [],
   "source": []
  },
  {
   "cell_type": "code",
   "execution_count": null,
   "id": "9e236db9",
   "metadata": {},
   "outputs": [],
   "source": []
  },
  {
   "cell_type": "code",
   "execution_count": null,
   "id": "90b9f0f5",
   "metadata": {},
   "outputs": [],
   "source": []
  }
 ],
 "metadata": {
  "kernelspec": {
   "display_name": "Python 3 (ipykernel)",
   "language": "python",
   "name": "python3"
  },
  "language_info": {
   "codemirror_mode": {
    "name": "ipython",
    "version": 3
   },
   "file_extension": ".py",
   "mimetype": "text/x-python",
   "name": "python",
   "nbconvert_exporter": "python",
   "pygments_lexer": "ipython3",
   "version": "3.10.9"
  }
 },
 "nbformat": 4,
 "nbformat_minor": 5
}
